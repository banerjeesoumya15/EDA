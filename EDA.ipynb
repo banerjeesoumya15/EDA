{
 "cells": [
  {
   "cell_type": "code",
   "execution_count": 16,
   "metadata": {
    "collapsed": true
   },
   "outputs": [],
   "source": [
    "# import libraries\n",
    "import pandas as pd\n",
    "import numpy as np\n",
    "import matplotlib.pyplot as plt\n",
    "\n",
    "%matplotlib inline"
   ]
  },
  {
   "cell_type": "code",
   "execution_count": 37,
   "metadata": {},
   "outputs": [
    {
     "data": {
      "text/html": [
       "<div>\n",
       "<style>\n",
       "    .dataframe thead tr:only-child th {\n",
       "        text-align: right;\n",
       "    }\n",
       "\n",
       "    .dataframe thead th {\n",
       "        text-align: left;\n",
       "    }\n",
       "\n",
       "    .dataframe tbody tr th {\n",
       "        vertical-align: top;\n",
       "    }\n",
       "</style>\n",
       "<table border=\"1\" class=\"dataframe\">\n",
       "  <thead>\n",
       "    <tr style=\"text-align: right;\">\n",
       "      <th></th>\n",
       "      <th>Facility ID</th>\n",
       "      <th>Facility Name</th>\n",
       "      <th>Address Line 1</th>\n",
       "      <th>Address Line 2</th>\n",
       "      <th>City</th>\n",
       "      <th>State</th>\n",
       "      <th>ZIP</th>\n",
       "      <th>Latitude (°N)</th>\n",
       "      <th>Longitude (°E)</th>\n",
       "      <th>Total Rated Electric Generation (kW)</th>\n",
       "      <th>...</th>\n",
       "      <th>Alternate Name(s)</th>\n",
       "      <th>Facility Website (external)</th>\n",
       "      <th>Category</th>\n",
       "      <th>Subcategory</th>\n",
       "      <th>Floor Area (ft²)</th>\n",
       "      <th>No. of Occupancy Units</th>\n",
       "      <th>Electric Utility</th>\n",
       "      <th>Gas Utility</th>\n",
       "      <th>NYISO Zone</th>\n",
       "      <th>Located in Flood Plain</th>\n",
       "    </tr>\n",
       "  </thead>\n",
       "  <tbody>\n",
       "    <tr>\n",
       "      <th>0</th>\n",
       "      <td>5</td>\n",
       "      <td>Aurora Ridge Dairy</td>\n",
       "      <td>2542 Angling Rd</td>\n",
       "      <td>NaN</td>\n",
       "      <td>Aurora</td>\n",
       "      <td>NY</td>\n",
       "      <td>13026</td>\n",
       "      <td>43.031</td>\n",
       "      <td>-76.467</td>\n",
       "      <td>600.0</td>\n",
       "      <td>...</td>\n",
       "      <td>NaN</td>\n",
       "      <td>NaN</td>\n",
       "      <td>Agricultural</td>\n",
       "      <td>Dairy</td>\n",
       "      <td>87120000.0</td>\n",
       "      <td>NaN</td>\n",
       "      <td>New York State Electric and Gas</td>\n",
       "      <td>New York State Electric and Gas</td>\n",
       "      <td>C - Central</td>\n",
       "      <td>NaN</td>\n",
       "    </tr>\n",
       "    <tr>\n",
       "      <th>1</th>\n",
       "      <td>11</td>\n",
       "      <td>Emerling Farm</td>\n",
       "      <td>2616 NY-246</td>\n",
       "      <td>NaN</td>\n",
       "      <td>Perry</td>\n",
       "      <td>NY</td>\n",
       "      <td>14530</td>\n",
       "      <td>42.758</td>\n",
       "      <td>-78.006</td>\n",
       "      <td>200.0</td>\n",
       "      <td>...</td>\n",
       "      <td>NaN</td>\n",
       "      <td>NaN</td>\n",
       "      <td>Agricultural</td>\n",
       "      <td>Dairy</td>\n",
       "      <td>NaN</td>\n",
       "      <td>NaN</td>\n",
       "      <td>New York State Electric and Gas</td>\n",
       "      <td>New York State Electric and Gas</td>\n",
       "      <td>A - West</td>\n",
       "      <td>NaN</td>\n",
       "    </tr>\n",
       "    <tr>\n",
       "      <th>2</th>\n",
       "      <td>23</td>\n",
       "      <td>River Point Towers</td>\n",
       "      <td>555 Kappock Ave</td>\n",
       "      <td>NaN</td>\n",
       "      <td>Bronx</td>\n",
       "      <td>NY</td>\n",
       "      <td>10463</td>\n",
       "      <td>40.882</td>\n",
       "      <td>-73.917</td>\n",
       "      <td>300.0</td>\n",
       "      <td>...</td>\n",
       "      <td>NaN</td>\n",
       "      <td>NaN</td>\n",
       "      <td>Residential</td>\n",
       "      <td>Multifamily</td>\n",
       "      <td>NaN</td>\n",
       "      <td>NaN</td>\n",
       "      <td>Consolidated Edison</td>\n",
       "      <td>Consolidated Edison</td>\n",
       "      <td>J - New York City</td>\n",
       "      <td>NaN</td>\n",
       "    </tr>\n",
       "    <tr>\n",
       "      <th>3</th>\n",
       "      <td>24</td>\n",
       "      <td>Burke Rehabilitation Hospital</td>\n",
       "      <td>785 Mamoroneck Ave</td>\n",
       "      <td>NaN</td>\n",
       "      <td>White Plains</td>\n",
       "      <td>NY</td>\n",
       "      <td>10605</td>\n",
       "      <td>41.016</td>\n",
       "      <td>-73.752</td>\n",
       "      <td>600.0</td>\n",
       "      <td>...</td>\n",
       "      <td>NaN</td>\n",
       "      <td>http://burke.org</td>\n",
       "      <td>Health Care (Inpatient)</td>\n",
       "      <td>Hospital</td>\n",
       "      <td>NaN</td>\n",
       "      <td>NaN</td>\n",
       "      <td>Consolidated Edison</td>\n",
       "      <td>Consolidated Edison</td>\n",
       "      <td>I - Dunwoodie</td>\n",
       "      <td>NaN</td>\n",
       "    </tr>\n",
       "    <tr>\n",
       "      <th>4</th>\n",
       "      <td>25</td>\n",
       "      <td>East Rochester School District</td>\n",
       "      <td>400 Woodbine Ave</td>\n",
       "      <td>NaN</td>\n",
       "      <td>East Rochester</td>\n",
       "      <td>NY</td>\n",
       "      <td>14445</td>\n",
       "      <td>43.108</td>\n",
       "      <td>-77.488</td>\n",
       "      <td>200.0</td>\n",
       "      <td>...</td>\n",
       "      <td>NaN</td>\n",
       "      <td>http://www.erschools.org/</td>\n",
       "      <td>Education</td>\n",
       "      <td>NaN</td>\n",
       "      <td>NaN</td>\n",
       "      <td>NaN</td>\n",
       "      <td>Rochester Gas and Electric</td>\n",
       "      <td>Rochester Gas and Electric</td>\n",
       "      <td>B - Genessee</td>\n",
       "      <td>NaN</td>\n",
       "    </tr>\n",
       "  </tbody>\n",
       "</table>\n",
       "<p>5 rows × 35 columns</p>\n",
       "</div>"
      ],
      "text/plain": [
       "   Facility ID                   Facility Name      Address Line 1  \\\n",
       "0            5              Aurora Ridge Dairy     2542 Angling Rd   \n",
       "1           11                   Emerling Farm         2616 NY-246   \n",
       "2           23              River Point Towers     555 Kappock Ave   \n",
       "3           24   Burke Rehabilitation Hospital  785 Mamoroneck Ave   \n",
       "4           25  East Rochester School District    400 Woodbine Ave   \n",
       "\n",
       "   Address Line 2            City State    ZIP  Latitude (°N)  Longitude (°E)  \\\n",
       "0             NaN          Aurora    NY  13026         43.031         -76.467   \n",
       "1             NaN           Perry    NY  14530         42.758         -78.006   \n",
       "2             NaN           Bronx    NY  10463         40.882         -73.917   \n",
       "3             NaN    White Plains    NY  10605         41.016         -73.752   \n",
       "4             NaN  East Rochester    NY  14445         43.108         -77.488   \n",
       "\n",
       "   Total Rated Electric Generation (kW)           ...            \\\n",
       "0                                 600.0           ...             \n",
       "1                                 200.0           ...             \n",
       "2                                 300.0           ...             \n",
       "3                                 600.0           ...             \n",
       "4                                 200.0           ...             \n",
       "\n",
       "   Alternate Name(s)  Facility Website (external)                 Category  \\\n",
       "0                NaN                          NaN             Agricultural   \n",
       "1                NaN                          NaN             Agricultural   \n",
       "2                NaN                          NaN              Residential   \n",
       "3                NaN             http://burke.org  Health Care (Inpatient)   \n",
       "4                NaN    http://www.erschools.org/                Education   \n",
       "\n",
       "   Subcategory  Floor Area (ft²)  No. of Occupancy Units  \\\n",
       "0        Dairy        87120000.0                     NaN   \n",
       "1        Dairy               NaN                     NaN   \n",
       "2  Multifamily               NaN                     NaN   \n",
       "3     Hospital               NaN                     NaN   \n",
       "4          NaN               NaN                     NaN   \n",
       "\n",
       "                  Electric Utility                      Gas Utility  \\\n",
       "0  New York State Electric and Gas  New York State Electric and Gas   \n",
       "1  New York State Electric and Gas  New York State Electric and Gas   \n",
       "2              Consolidated Edison              Consolidated Edison   \n",
       "3              Consolidated Edison              Consolidated Edison   \n",
       "4       Rochester Gas and Electric       Rochester Gas and Electric   \n",
       "\n",
       "          NYISO Zone  Located in Flood Plain  \n",
       "0        C - Central                     NaN  \n",
       "1           A - West                     NaN  \n",
       "2  J - New York City                     NaN  \n",
       "3      I - Dunwoodie                     NaN  \n",
       "4       B - Genessee                     NaN  \n",
       "\n",
       "[5 rows x 35 columns]"
      ]
     },
     "execution_count": 37,
     "metadata": {},
     "output_type": "execute_result"
    }
   ],
   "source": [
    "# fetch data\n",
    "df = pd.read_excel(\"C:\\\\Users\\\\Soumya\\\\Desktop\\\\Jupyter\\\\New Folder\\\\NYSERDA_DER_Metric_Data.xlsx\")\n",
    "\n",
    "df.head()"
   ]
  },
  {
   "cell_type": "code",
   "execution_count": 3,
   "metadata": {
    "scrolled": true
   },
   "outputs": [
    {
     "name": "stdout",
     "output_type": "stream",
     "text": [
      "(811, 35)\n",
      "<class 'pandas.core.frame.DataFrame'>\n",
      "RangeIndex: 811 entries, 0 to 810\n",
      "Data columns (total 35 columns):\n",
      "Facility ID                                                                 811 non-null int64\n",
      "Facility Name                                                               811 non-null object\n",
      "Address Line 1                                                              706 non-null object\n",
      "Address Line 2                                                              0 non-null float64\n",
      "City                                                                        811 non-null object\n",
      "State                                                                       811 non-null object\n",
      "ZIP                                                                         811 non-null object\n",
      "Latitude (°N)                                                               811 non-null float64\n",
      "Longitude (°E)                                                              811 non-null float64\n",
      "Total Rated Electric Generation (kW)                                        811 non-null float64\n",
      "Total Rated Heat Generation (MBtu/h)                                        811 non-null float64\n",
      "Total Rated Electrical Discharge Capacity (kW)                              811 non-null float64\n",
      "Total Rated Electrical Storage Capacity (kWh)                               811 non-null float64\n",
      "Total Rated Cooling Energy Discharge Capacity (ton)                         811 non-null int64\n",
      "Total Equivalent Electrical Discharge Capacity from Cooling Sources (kW)    811 non-null float64\n",
      "Total Rated Cooling Energy Storage Capacity (ton-hour)                      811 non-null int64\n",
      "Total Equivalent Electrical Storage Capacity from Cooling Sources (kWh)     811 non-null float64\n",
      "Total Rated Thermal Energy Discharge Capacity (MBtu/h)                      811 non-null int64\n",
      "Total Equivalent Electrical Discharge Capacity from Thermal Sources (kW)    811 non-null int64\n",
      "Total Rated Thermal Energy Storage Capacity (MBtu)                          811 non-null int64\n",
      "Total Equivalent Electrical Storage Capacity from Thermal Sources (kWh)     811 non-null int64\n",
      "Facility Submits Data on Electricity Imported from Utility?                 811 non-null bool\n",
      "Source Weather Station for Ambient Temperature Data                         811 non-null object\n",
      "Metric Data Last Modified                                                   811 non-null datetime64[ns]\n",
      "Installed Systems                                                           811 non-null int64\n",
      "Alternate Name(s)                                                           57 non-null object\n",
      "Facility Website (external)                                                 420 non-null object\n",
      "Category                                                                    811 non-null object\n",
      "Subcategory                                                                 723 non-null object\n",
      "Floor Area (ft²)                                                            11 non-null float64\n",
      "No. of Occupancy Units                                                      5 non-null float64\n",
      "Electric Utility                                                            811 non-null object\n",
      "Gas Utility                                                                 290 non-null object\n",
      "NYISO Zone                                                                  810 non-null object\n",
      "Located in Flood Plain                                                      0 non-null float64\n",
      "dtypes: bool(1), datetime64[ns](1), float64(12), int64(8), object(13)\n",
      "memory usage: 216.3+ KB\n"
     ]
    }
   ],
   "source": [
    "print(df.shape)\n",
    "df.info()"
   ]
  },
  {
   "cell_type": "code",
   "execution_count": 38,
   "metadata": {},
   "outputs": [
    {
     "name": "stdout",
     "output_type": "stream",
     "text": [
      "List of dropped columns: \n",
      " Facility ID\n",
      " Address Line 2\n",
      " Alternate Name(s)\n",
      " Floor Area (ft²)\n",
      " No. of Occupancy Units\n",
      " Gas Utility\n",
      " Located in Flood Plain\n",
      "\n"
     ]
    }
   ],
   "source": [
    "# delete columns having less than 50% data\n",
    "df2 = df[[column for column in df if df[column].count() / len(df) >= 0.5]]\n",
    "del df2[\"Facility ID\"]  # delete ID\n",
    "print(\"List of dropped columns:\", end=\" \")\n",
    "for c in df.columns:\n",
    "    if c not in df2.columns:\n",
    "        print(\"\\n\", c, end=\"\")\n",
    "print('\\n')\n",
    "df = df2"
   ]
  },
  {
   "cell_type": "code",
   "execution_count": 5,
   "metadata": {},
   "outputs": [
    {
     "data": {
      "text/plain": [
       "Index(['Facility Name', 'Address Line 1', 'City', 'State', 'ZIP',\n",
       "       'Latitude (°N)', 'Longitude (°E)',\n",
       "       'Total Rated Electric Generation (kW)',\n",
       "       'Total Rated Heat Generation (MBtu/h)',\n",
       "       'Total Rated Electrical Discharge Capacity (kW)',\n",
       "       'Total Rated Electrical Storage Capacity (kWh)',\n",
       "       'Total Rated Cooling Energy Discharge Capacity (ton)',\n",
       "       'Total Equivalent Electrical Discharge Capacity from Cooling Sources (kW)',\n",
       "       'Total Rated Cooling Energy Storage Capacity (ton-hour)',\n",
       "       'Total Equivalent Electrical Storage Capacity from Cooling Sources (kWh)',\n",
       "       'Total Rated Thermal Energy Discharge Capacity (MBtu/h)',\n",
       "       'Total Equivalent Electrical Discharge Capacity from Thermal Sources (kW)',\n",
       "       'Total Rated Thermal Energy Storage Capacity (MBtu)',\n",
       "       'Total Equivalent Electrical Storage Capacity from Thermal Sources (kWh)',\n",
       "       'Facility Submits Data on Electricity Imported from Utility?',\n",
       "       'Source Weather Station for Ambient Temperature Data',\n",
       "       'Metric Data Last Modified', 'Installed Systems',\n",
       "       'Facility Website (external)', 'Category', 'Subcategory',\n",
       "       'Electric Utility', 'NYISO Zone'],\n",
       "      dtype='object')"
      ]
     },
     "execution_count": 5,
     "metadata": {},
     "output_type": "execute_result"
    }
   ],
   "source": [
    "df.columns"
   ]
  },
  {
   "cell_type": "code",
   "execution_count": 19,
   "metadata": {},
   "outputs": [
    {
     "data": {
      "text/plain": [
       "{dtype('int64'), dtype('<M8[ns]'), dtype('bool'), dtype('float64'), dtype('O')}"
      ]
     },
     "execution_count": 19,
     "metadata": {},
     "output_type": "execute_result"
    }
   ],
   "source": [
    "# Numerical Distribution Analysis\n",
    "set(df.dtypes)"
   ]
  },
  {
   "cell_type": "code",
   "execution_count": 39,
   "metadata": {},
   "outputs": [
    {
     "data": {
      "text/html": [
       "<div>\n",
       "<style>\n",
       "    .dataframe thead tr:only-child th {\n",
       "        text-align: right;\n",
       "    }\n",
       "\n",
       "    .dataframe thead th {\n",
       "        text-align: left;\n",
       "    }\n",
       "\n",
       "    .dataframe tbody tr th {\n",
       "        vertical-align: top;\n",
       "    }\n",
       "</style>\n",
       "<table border=\"1\" class=\"dataframe\">\n",
       "  <thead>\n",
       "    <tr style=\"text-align: right;\">\n",
       "      <th></th>\n",
       "      <th>Latitude (°N)</th>\n",
       "      <th>Longitude (°E)</th>\n",
       "      <th>Total Rated Electric Generation (kW)</th>\n",
       "      <th>Total Rated Heat Generation (MBtu/h)</th>\n",
       "      <th>Total Rated Electrical Discharge Capacity (kW)</th>\n",
       "      <th>Total Rated Electrical Storage Capacity (kWh)</th>\n",
       "      <th>Total Rated Cooling Energy Discharge Capacity (ton)</th>\n",
       "      <th>Total Equivalent Electrical Discharge Capacity from Cooling Sources (kW)</th>\n",
       "      <th>Total Rated Cooling Energy Storage Capacity (ton-hour)</th>\n",
       "      <th>Total Equivalent Electrical Storage Capacity from Cooling Sources (kWh)</th>\n",
       "      <th>Total Rated Thermal Energy Discharge Capacity (MBtu/h)</th>\n",
       "      <th>Total Equivalent Electrical Discharge Capacity from Thermal Sources (kW)</th>\n",
       "      <th>Total Rated Thermal Energy Storage Capacity (MBtu)</th>\n",
       "      <th>Total Equivalent Electrical Storage Capacity from Thermal Sources (kWh)</th>\n",
       "      <th>Installed Systems</th>\n",
       "    </tr>\n",
       "  </thead>\n",
       "  <tbody>\n",
       "    <tr>\n",
       "      <th>0</th>\n",
       "      <td>43.031</td>\n",
       "      <td>-76.467</td>\n",
       "      <td>600.0</td>\n",
       "      <td>0.0</td>\n",
       "      <td>0.0</td>\n",
       "      <td>0.0</td>\n",
       "      <td>0</td>\n",
       "      <td>0.0</td>\n",
       "      <td>0</td>\n",
       "      <td>0.0</td>\n",
       "      <td>0</td>\n",
       "      <td>0</td>\n",
       "      <td>0</td>\n",
       "      <td>0</td>\n",
       "      <td>1</td>\n",
       "    </tr>\n",
       "    <tr>\n",
       "      <th>1</th>\n",
       "      <td>42.758</td>\n",
       "      <td>-78.006</td>\n",
       "      <td>200.0</td>\n",
       "      <td>0.0</td>\n",
       "      <td>0.0</td>\n",
       "      <td>0.0</td>\n",
       "      <td>0</td>\n",
       "      <td>0.0</td>\n",
       "      <td>0</td>\n",
       "      <td>0.0</td>\n",
       "      <td>0</td>\n",
       "      <td>0</td>\n",
       "      <td>0</td>\n",
       "      <td>0</td>\n",
       "      <td>1</td>\n",
       "    </tr>\n",
       "    <tr>\n",
       "      <th>2</th>\n",
       "      <td>40.882</td>\n",
       "      <td>-73.917</td>\n",
       "      <td>300.0</td>\n",
       "      <td>0.0</td>\n",
       "      <td>0.0</td>\n",
       "      <td>0.0</td>\n",
       "      <td>0</td>\n",
       "      <td>0.0</td>\n",
       "      <td>0</td>\n",
       "      <td>0.0</td>\n",
       "      <td>0</td>\n",
       "      <td>0</td>\n",
       "      <td>0</td>\n",
       "      <td>0</td>\n",
       "      <td>1</td>\n",
       "    </tr>\n",
       "    <tr>\n",
       "      <th>3</th>\n",
       "      <td>41.016</td>\n",
       "      <td>-73.752</td>\n",
       "      <td>600.0</td>\n",
       "      <td>0.0</td>\n",
       "      <td>0.0</td>\n",
       "      <td>0.0</td>\n",
       "      <td>0</td>\n",
       "      <td>0.0</td>\n",
       "      <td>0</td>\n",
       "      <td>0.0</td>\n",
       "      <td>0</td>\n",
       "      <td>0</td>\n",
       "      <td>0</td>\n",
       "      <td>0</td>\n",
       "      <td>1</td>\n",
       "    </tr>\n",
       "    <tr>\n",
       "      <th>4</th>\n",
       "      <td>43.108</td>\n",
       "      <td>-77.488</td>\n",
       "      <td>200.0</td>\n",
       "      <td>0.0</td>\n",
       "      <td>0.0</td>\n",
       "      <td>0.0</td>\n",
       "      <td>0</td>\n",
       "      <td>0.0</td>\n",
       "      <td>0</td>\n",
       "      <td>0.0</td>\n",
       "      <td>0</td>\n",
       "      <td>0</td>\n",
       "      <td>0</td>\n",
       "      <td>0</td>\n",
       "      <td>1</td>\n",
       "    </tr>\n",
       "  </tbody>\n",
       "</table>\n",
       "</div>"
      ],
      "text/plain": [
       "   Latitude (°N)  Longitude (°E)  Total Rated Electric Generation (kW)  \\\n",
       "0         43.031         -76.467                                 600.0   \n",
       "1         42.758         -78.006                                 200.0   \n",
       "2         40.882         -73.917                                 300.0   \n",
       "3         41.016         -73.752                                 600.0   \n",
       "4         43.108         -77.488                                 200.0   \n",
       "\n",
       "   Total Rated Heat Generation (MBtu/h)  \\\n",
       "0                                   0.0   \n",
       "1                                   0.0   \n",
       "2                                   0.0   \n",
       "3                                   0.0   \n",
       "4                                   0.0   \n",
       "\n",
       "   Total Rated Electrical Discharge Capacity (kW)  \\\n",
       "0                                             0.0   \n",
       "1                                             0.0   \n",
       "2                                             0.0   \n",
       "3                                             0.0   \n",
       "4                                             0.0   \n",
       "\n",
       "   Total Rated Electrical Storage Capacity (kWh)  \\\n",
       "0                                            0.0   \n",
       "1                                            0.0   \n",
       "2                                            0.0   \n",
       "3                                            0.0   \n",
       "4                                            0.0   \n",
       "\n",
       "   Total Rated Cooling Energy Discharge Capacity (ton)  \\\n",
       "0                                                  0     \n",
       "1                                                  0     \n",
       "2                                                  0     \n",
       "3                                                  0     \n",
       "4                                                  0     \n",
       "\n",
       "   Total Equivalent Electrical Discharge Capacity from Cooling Sources (kW)  \\\n",
       "0                                                0.0                          \n",
       "1                                                0.0                          \n",
       "2                                                0.0                          \n",
       "3                                                0.0                          \n",
       "4                                                0.0                          \n",
       "\n",
       "   Total Rated Cooling Energy Storage Capacity (ton-hour)  \\\n",
       "0                                                  0        \n",
       "1                                                  0        \n",
       "2                                                  0        \n",
       "3                                                  0        \n",
       "4                                                  0        \n",
       "\n",
       "   Total Equivalent Electrical Storage Capacity from Cooling Sources (kWh)  \\\n",
       "0                                                0.0                         \n",
       "1                                                0.0                         \n",
       "2                                                0.0                         \n",
       "3                                                0.0                         \n",
       "4                                                0.0                         \n",
       "\n",
       "   Total Rated Thermal Energy Discharge Capacity (MBtu/h)  \\\n",
       "0                                                  0        \n",
       "1                                                  0        \n",
       "2                                                  0        \n",
       "3                                                  0        \n",
       "4                                                  0        \n",
       "\n",
       "   Total Equivalent Electrical Discharge Capacity from Thermal Sources (kW)  \\\n",
       "0                                                  0                          \n",
       "1                                                  0                          \n",
       "2                                                  0                          \n",
       "3                                                  0                          \n",
       "4                                                  0                          \n",
       "\n",
       "   Total Rated Thermal Energy Storage Capacity (MBtu)  \\\n",
       "0                                                  0    \n",
       "1                                                  0    \n",
       "2                                                  0    \n",
       "3                                                  0    \n",
       "4                                                  0    \n",
       "\n",
       "   Total Equivalent Electrical Storage Capacity from Thermal Sources (kWh)  \\\n",
       "0                                                  0                         \n",
       "1                                                  0                         \n",
       "2                                                  0                         \n",
       "3                                                  0                         \n",
       "4                                                  0                         \n",
       "\n",
       "   Installed Systems  \n",
       "0                  1  \n",
       "1                  1  \n",
       "2                  1  \n",
       "3                  1  \n",
       "4                  1  "
      ]
     },
     "execution_count": 39,
     "metadata": {},
     "output_type": "execute_result"
    }
   ],
   "source": [
    "df_num = df.select_dtypes(include = [\"int64\", \"float64\"])\n",
    "df_num.head()"
   ]
  },
  {
   "cell_type": "code",
   "execution_count": 21,
   "metadata": {},
   "outputs": [
    {
     "data": {
      "text/html": [
       "<div>\n",
       "<style>\n",
       "    .dataframe thead tr:only-child th {\n",
       "        text-align: right;\n",
       "    }\n",
       "\n",
       "    .dataframe thead th {\n",
       "        text-align: left;\n",
       "    }\n",
       "\n",
       "    .dataframe tbody tr th {\n",
       "        vertical-align: top;\n",
       "    }\n",
       "</style>\n",
       "<table border=\"1\" class=\"dataframe\">\n",
       "  <thead>\n",
       "    <tr style=\"text-align: right;\">\n",
       "      <th></th>\n",
       "      <th>Latitude (°N)</th>\n",
       "      <th>Longitude (°E)</th>\n",
       "      <th>Total Rated Electric Generation (kW)</th>\n",
       "      <th>Total Rated Heat Generation (MBtu/h)</th>\n",
       "      <th>Total Rated Electrical Discharge Capacity (kW)</th>\n",
       "      <th>Total Rated Electrical Storage Capacity (kWh)</th>\n",
       "      <th>Total Rated Cooling Energy Discharge Capacity (ton)</th>\n",
       "      <th>Total Equivalent Electrical Discharge Capacity from Cooling Sources (kW)</th>\n",
       "      <th>Total Rated Cooling Energy Storage Capacity (ton-hour)</th>\n",
       "      <th>Total Equivalent Electrical Storage Capacity from Cooling Sources (kWh)</th>\n",
       "      <th>Total Rated Thermal Energy Discharge Capacity (MBtu/h)</th>\n",
       "      <th>Total Equivalent Electrical Discharge Capacity from Thermal Sources (kW)</th>\n",
       "      <th>Total Rated Thermal Energy Storage Capacity (MBtu)</th>\n",
       "      <th>Total Equivalent Electrical Storage Capacity from Thermal Sources (kWh)</th>\n",
       "      <th>Installed Systems</th>\n",
       "    </tr>\n",
       "  </thead>\n",
       "  <tbody>\n",
       "    <tr>\n",
       "      <th>count</th>\n",
       "      <td>811.000000</td>\n",
       "      <td>811.000000</td>\n",
       "      <td>811.000000</td>\n",
       "      <td>811.000000</td>\n",
       "      <td>811.000000</td>\n",
       "      <td>811.000000</td>\n",
       "      <td>811.0</td>\n",
       "      <td>811.000000</td>\n",
       "      <td>811.000000</td>\n",
       "      <td>8.110000e+02</td>\n",
       "      <td>811.0</td>\n",
       "      <td>811.0</td>\n",
       "      <td>811.0</td>\n",
       "      <td>811.0</td>\n",
       "      <td>811.000000</td>\n",
       "    </tr>\n",
       "    <tr>\n",
       "      <th>mean</th>\n",
       "      <td>41.717059</td>\n",
       "      <td>-74.690903</td>\n",
       "      <td>876.536396</td>\n",
       "      <td>428.617883</td>\n",
       "      <td>48.148274</td>\n",
       "      <td>93.899507</td>\n",
       "      <td>0.0</td>\n",
       "      <td>18.376942</td>\n",
       "      <td>143.545006</td>\n",
       "      <td>1.590925e+03</td>\n",
       "      <td>0.0</td>\n",
       "      <td>0.0</td>\n",
       "      <td>0.0</td>\n",
       "      <td>0.0</td>\n",
       "      <td>1.056720</td>\n",
       "    </tr>\n",
       "    <tr>\n",
       "      <th>std</th>\n",
       "      <td>1.052432</td>\n",
       "      <td>1.436469</td>\n",
       "      <td>2063.768717</td>\n",
       "      <td>5260.082111</td>\n",
       "      <td>740.214971</td>\n",
       "      <td>1531.452257</td>\n",
       "      <td>0.0</td>\n",
       "      <td>211.840662</td>\n",
       "      <td>1433.684633</td>\n",
       "      <td>4.315059e+04</td>\n",
       "      <td>0.0</td>\n",
       "      <td>0.0</td>\n",
       "      <td>0.0</td>\n",
       "      <td>0.0</td>\n",
       "      <td>0.622015</td>\n",
       "    </tr>\n",
       "    <tr>\n",
       "      <th>min</th>\n",
       "      <td>40.520465</td>\n",
       "      <td>-79.645000</td>\n",
       "      <td>0.000000</td>\n",
       "      <td>0.000000</td>\n",
       "      <td>0.000000</td>\n",
       "      <td>0.000000</td>\n",
       "      <td>0.0</td>\n",
       "      <td>0.000000</td>\n",
       "      <td>0.000000</td>\n",
       "      <td>0.000000e+00</td>\n",
       "      <td>0.0</td>\n",
       "      <td>0.0</td>\n",
       "      <td>0.0</td>\n",
       "      <td>0.0</td>\n",
       "      <td>0.000000</td>\n",
       "    </tr>\n",
       "    <tr>\n",
       "      <th>25%</th>\n",
       "      <td>40.758131</td>\n",
       "      <td>-75.030587</td>\n",
       "      <td>70.000000</td>\n",
       "      <td>0.000000</td>\n",
       "      <td>0.000000</td>\n",
       "      <td>0.000000</td>\n",
       "      <td>0.0</td>\n",
       "      <td>0.000000</td>\n",
       "      <td>0.000000</td>\n",
       "      <td>0.000000e+00</td>\n",
       "      <td>0.0</td>\n",
       "      <td>0.0</td>\n",
       "      <td>0.0</td>\n",
       "      <td>0.0</td>\n",
       "      <td>1.000000</td>\n",
       "    </tr>\n",
       "    <tr>\n",
       "      <th>50%</th>\n",
       "      <td>41.295949</td>\n",
       "      <td>-73.986483</td>\n",
       "      <td>300.000000</td>\n",
       "      <td>0.000000</td>\n",
       "      <td>0.000000</td>\n",
       "      <td>0.000000</td>\n",
       "      <td>0.0</td>\n",
       "      <td>0.000000</td>\n",
       "      <td>0.000000</td>\n",
       "      <td>0.000000e+00</td>\n",
       "      <td>0.0</td>\n",
       "      <td>0.0</td>\n",
       "      <td>0.0</td>\n",
       "      <td>0.0</td>\n",
       "      <td>1.000000</td>\n",
       "    </tr>\n",
       "    <tr>\n",
       "      <th>75%</th>\n",
       "      <td>42.764421</td>\n",
       "      <td>-73.885000</td>\n",
       "      <td>912.354500</td>\n",
       "      <td>0.000000</td>\n",
       "      <td>0.000000</td>\n",
       "      <td>0.000000</td>\n",
       "      <td>0.0</td>\n",
       "      <td>0.000000</td>\n",
       "      <td>0.000000</td>\n",
       "      <td>0.000000e+00</td>\n",
       "      <td>0.0</td>\n",
       "      <td>0.0</td>\n",
       "      <td>0.0</td>\n",
       "      <td>0.0</td>\n",
       "      <td>1.000000</td>\n",
       "    </tr>\n",
       "    <tr>\n",
       "      <th>max</th>\n",
       "      <td>44.895567</td>\n",
       "      <td>-71.946369</td>\n",
       "      <td>37500.000000</td>\n",
       "      <td>127000.000000</td>\n",
       "      <td>20000.000000</td>\n",
       "      <td>40000.000000</td>\n",
       "      <td>0.0</td>\n",
       "      <td>5000.000000</td>\n",
       "      <td>30000.000000</td>\n",
       "      <td>1.228680e+06</td>\n",
       "      <td>0.0</td>\n",
       "      <td>0.0</td>\n",
       "      <td>0.0</td>\n",
       "      <td>0.0</td>\n",
       "      <td>11.000000</td>\n",
       "    </tr>\n",
       "  </tbody>\n",
       "</table>\n",
       "</div>"
      ],
      "text/plain": [
       "       Latitude (°N)  Longitude (°E)  Total Rated Electric Generation (kW)  \\\n",
       "count     811.000000      811.000000                            811.000000   \n",
       "mean       41.717059      -74.690903                            876.536396   \n",
       "std         1.052432        1.436469                           2063.768717   \n",
       "min        40.520465      -79.645000                              0.000000   \n",
       "25%        40.758131      -75.030587                             70.000000   \n",
       "50%        41.295949      -73.986483                            300.000000   \n",
       "75%        42.764421      -73.885000                            912.354500   \n",
       "max        44.895567      -71.946369                          37500.000000   \n",
       "\n",
       "       Total Rated Heat Generation (MBtu/h)  \\\n",
       "count                            811.000000   \n",
       "mean                             428.617883   \n",
       "std                             5260.082111   \n",
       "min                                0.000000   \n",
       "25%                                0.000000   \n",
       "50%                                0.000000   \n",
       "75%                                0.000000   \n",
       "max                           127000.000000   \n",
       "\n",
       "       Total Rated Electrical Discharge Capacity (kW)  \\\n",
       "count                                      811.000000   \n",
       "mean                                        48.148274   \n",
       "std                                        740.214971   \n",
       "min                                          0.000000   \n",
       "25%                                          0.000000   \n",
       "50%                                          0.000000   \n",
       "75%                                          0.000000   \n",
       "max                                      20000.000000   \n",
       "\n",
       "       Total Rated Electrical Storage Capacity (kWh)  \\\n",
       "count                                     811.000000   \n",
       "mean                                       93.899507   \n",
       "std                                      1531.452257   \n",
       "min                                         0.000000   \n",
       "25%                                         0.000000   \n",
       "50%                                         0.000000   \n",
       "75%                                         0.000000   \n",
       "max                                     40000.000000   \n",
       "\n",
       "       Total Rated Cooling Energy Discharge Capacity (ton)  \\\n",
       "count                                              811.0     \n",
       "mean                                                 0.0     \n",
       "std                                                  0.0     \n",
       "min                                                  0.0     \n",
       "25%                                                  0.0     \n",
       "50%                                                  0.0     \n",
       "75%                                                  0.0     \n",
       "max                                                  0.0     \n",
       "\n",
       "       Total Equivalent Electrical Discharge Capacity from Cooling Sources (kW)  \\\n",
       "count                                         811.000000                          \n",
       "mean                                           18.376942                          \n",
       "std                                           211.840662                          \n",
       "min                                             0.000000                          \n",
       "25%                                             0.000000                          \n",
       "50%                                             0.000000                          \n",
       "75%                                             0.000000                          \n",
       "max                                          5000.000000                          \n",
       "\n",
       "       Total Rated Cooling Energy Storage Capacity (ton-hour)  \\\n",
       "count                                         811.000000        \n",
       "mean                                          143.545006        \n",
       "std                                          1433.684633        \n",
       "min                                             0.000000        \n",
       "25%                                             0.000000        \n",
       "50%                                             0.000000        \n",
       "75%                                             0.000000        \n",
       "max                                         30000.000000        \n",
       "\n",
       "       Total Equivalent Electrical Storage Capacity from Cooling Sources (kWh)  \\\n",
       "count                                       8.110000e+02                         \n",
       "mean                                        1.590925e+03                         \n",
       "std                                         4.315059e+04                         \n",
       "min                                         0.000000e+00                         \n",
       "25%                                         0.000000e+00                         \n",
       "50%                                         0.000000e+00                         \n",
       "75%                                         0.000000e+00                         \n",
       "max                                         1.228680e+06                         \n",
       "\n",
       "       Total Rated Thermal Energy Discharge Capacity (MBtu/h)  \\\n",
       "count                                              811.0        \n",
       "mean                                                 0.0        \n",
       "std                                                  0.0        \n",
       "min                                                  0.0        \n",
       "25%                                                  0.0        \n",
       "50%                                                  0.0        \n",
       "75%                                                  0.0        \n",
       "max                                                  0.0        \n",
       "\n",
       "       Total Equivalent Electrical Discharge Capacity from Thermal Sources (kW)  \\\n",
       "count                                              811.0                          \n",
       "mean                                                 0.0                          \n",
       "std                                                  0.0                          \n",
       "min                                                  0.0                          \n",
       "25%                                                  0.0                          \n",
       "50%                                                  0.0                          \n",
       "75%                                                  0.0                          \n",
       "max                                                  0.0                          \n",
       "\n",
       "       Total Rated Thermal Energy Storage Capacity (MBtu)  \\\n",
       "count                                              811.0    \n",
       "mean                                                 0.0    \n",
       "std                                                  0.0    \n",
       "min                                                  0.0    \n",
       "25%                                                  0.0    \n",
       "50%                                                  0.0    \n",
       "75%                                                  0.0    \n",
       "max                                                  0.0    \n",
       "\n",
       "       Total Equivalent Electrical Storage Capacity from Thermal Sources (kWh)  \\\n",
       "count                                              811.0                         \n",
       "mean                                                 0.0                         \n",
       "std                                                  0.0                         \n",
       "min                                                  0.0                         \n",
       "25%                                                  0.0                         \n",
       "50%                                                  0.0                         \n",
       "75%                                                  0.0                         \n",
       "max                                                  0.0                         \n",
       "\n",
       "       Installed Systems  \n",
       "count         811.000000  \n",
       "mean            1.056720  \n",
       "std             0.622015  \n",
       "min             0.000000  \n",
       "25%             1.000000  \n",
       "50%             1.000000  \n",
       "75%             1.000000  \n",
       "max            11.000000  "
      ]
     },
     "execution_count": 21,
     "metadata": {},
     "output_type": "execute_result"
    }
   ],
   "source": [
    "df_num.describe()"
   ]
  },
  {
   "cell_type": "code",
   "execution_count": 22,
   "metadata": {},
   "outputs": [
    {
     "name": "stderr",
     "output_type": "stream",
     "text": [
      "F:\\rohan\\anaconda\\lib\\site-packages\\ipykernel_launcher.py:2: SettingWithCopyWarning: \n",
      "A value is trying to be set on a copy of a slice from a DataFrame\n",
      "\n",
      "See the caveats in the documentation: http://pandas.pydata.org/pandas-docs/stable/indexing.html#indexing-view-versus-copy\n",
      "  \n"
     ]
    },
    {
     "data": {
      "image/png": "[encoded data removed]",
      "text/plain": [
       "<matplotlib.figure.Figure at 0x284d86e9438>"
      ]
     },
     "metadata": {},
     "output_type": "display_data"
    },
    {
     "data": {
      "image/png": "[encoded data removed]",
      "text/plain": [
       "<matplotlib.figure.Figure at 0x284d86d9710>"
      ]
     },
     "metadata": {},
     "output_type": "display_data"
    },
    {
     "data": {
      "image/png": "[encoded data removed]",
      "text/plain": [
       "<matplotlib.figure.Figure at 0x284d9f65fd0>"
      ]
     },
     "metadata": {},
     "output_type": "display_data"
    },
    {
     "data": {
      "image/png": "[encoded data removed]",
      "text/plain": [
       "<matplotlib.figure.Figure at 0x284d9f5fe80>"
      ]
     },
     "metadata": {},
     "output_type": "display_data"
    },
    {
     "data": {
      "image/png": "[encoded data removed]",
      "text/plain": [
       "<matplotlib.figure.Figure at 0x284d9e93438>"
      ]
     },
     "metadata": {},
     "output_type": "display_data"
    },
    {
     "data": {
      "image/png": "[encoded data removed]",
      "text/plain": [
       "<matplotlib.figure.Figure at 0x284d9e93710>"
      ]
     },
     "metadata": {},
     "output_type": "display_data"
    },
    {
     "data": {
      "image/png": "[encoded data removed]",
      "text/plain": [
       "<matplotlib.figure.Figure at 0x284d8478fd0>"
      ]
     },
     "metadata": {},
     "output_type": "display_data"
    },
    {
     "data": {
      "image/png": "[encoded data removed]",
      "text/plain": [
       "<matplotlib.figure.Figure at 0x284da041550>"
      ]
     },
     "metadata": {},
     "output_type": "display_data"
    },
    {
     "data": {
      "image/png": "[encoded data removed]",
      "text/plain": [
       "<matplotlib.figure.Figure at 0x284da0e9eb8>"
      ]
     },
     "metadata": {},
     "output_type": "display_data"
    },
    {
     "data": {
      "image/png": "[encoded data removed]",
      "text/plain": [
       "<matplotlib.figure.Figure at 0x284da193e80>"
      ]
     },
     "metadata": {},
     "output_type": "display_data"
    },
    {
     "data": {
      "image/png": "[encoded data removed]",
      "text/plain": [
       "<matplotlib.figure.Figure at 0x284da246828>"
      ]
     },
     "metadata": {},
     "output_type": "display_data"
    },
    {
     "data": {
      "image/png": "[encoded data removed]",
      "text/plain": [
       "<matplotlib.figure.Figure at 0x284da2f2710>"
      ]
     },
     "metadata": {},
     "output_type": "display_data"
    },
    {
     "data": {
      "image/png": "[encoded data removed]",
      "text/plain": [
       "<matplotlib.figure.Figure at 0x284da39bb38>"
      ]
     },
     "metadata": {},
     "output_type": "display_data"
    }
   ],
   "source": [
    "# we don't need to do analysis of Latitude and longitude\n",
    "df_num.drop(df_num.columns[0:2], axis=1, inplace=True)\n",
    "count=0\n",
    "for c in df_num.columns:\n",
    "    filename='image_eda_'+str(count)+'.jpg'\n",
    "    df_num.hist(column=c, bins=50)\n",
    "    fig = plt.gcf()\n",
    "    fig.set_size_inches(7, 3)\n",
    "    plt.savefig(filename, dpi=100)\n",
    "    count=count+1\n",
    "# lot of 0s"
   ]
  },
  {
   "cell_type": "code",
   "execution_count": 23,
   "metadata": {},
   "outputs": [
    {
     "data": {
      "text/html": [
       "<div>\n",
       "<style>\n",
       "    .dataframe thead tr:only-child th {\n",
       "        text-align: right;\n",
       "    }\n",
       "\n",
       "    .dataframe thead th {\n",
       "        text-align: left;\n",
       "    }\n",
       "\n",
       "    .dataframe tbody tr th {\n",
       "        vertical-align: top;\n",
       "    }\n",
       "</style>\n",
       "<table border=\"1\" class=\"dataframe\">\n",
       "  <thead>\n",
       "    <tr style=\"text-align: right;\">\n",
       "      <th></th>\n",
       "      <th>Total Rated Electric Generation (kW)</th>\n",
       "      <th>Total Rated Heat Generation (MBtu/h)</th>\n",
       "      <th>Total Rated Electrical Discharge Capacity (kW)</th>\n",
       "      <th>Total Rated Electrical Storage Capacity (kWh)</th>\n",
       "      <th>Total Rated Cooling Energy Discharge Capacity (ton)</th>\n",
       "      <th>Total Equivalent Electrical Discharge Capacity from Cooling Sources (kW)</th>\n",
       "      <th>Total Rated Cooling Energy Storage Capacity (ton-hour)</th>\n",
       "      <th>Total Equivalent Electrical Storage Capacity from Cooling Sources (kWh)</th>\n",
       "      <th>Total Rated Thermal Energy Discharge Capacity (MBtu/h)</th>\n",
       "      <th>Total Equivalent Electrical Discharge Capacity from Thermal Sources (kW)</th>\n",
       "      <th>Total Rated Thermal Energy Storage Capacity (MBtu)</th>\n",
       "      <th>Total Equivalent Electrical Storage Capacity from Thermal Sources (kWh)</th>\n",
       "      <th>Installed Systems</th>\n",
       "    </tr>\n",
       "  </thead>\n",
       "  <tbody>\n",
       "    <tr>\n",
       "      <th>Total Rated Electric Generation (kW)</th>\n",
       "      <td>1.000000</td>\n",
       "      <td>0.157261</td>\n",
       "      <td>-0.027425</td>\n",
       "      <td>-0.025635</td>\n",
       "      <td>NaN</td>\n",
       "      <td>-0.035714</td>\n",
       "      <td>-0.041592</td>\n",
       "      <td>-0.015644</td>\n",
       "      <td>NaN</td>\n",
       "      <td>NaN</td>\n",
       "      <td>NaN</td>\n",
       "      <td>NaN</td>\n",
       "      <td>0.112160</td>\n",
       "    </tr>\n",
       "    <tr>\n",
       "      <th>Total Rated Heat Generation (MBtu/h)</th>\n",
       "      <td>0.157261</td>\n",
       "      <td>1.000000</td>\n",
       "      <td>-0.005307</td>\n",
       "      <td>-0.005002</td>\n",
       "      <td>NaN</td>\n",
       "      <td>-0.007077</td>\n",
       "      <td>-0.008169</td>\n",
       "      <td>-0.003008</td>\n",
       "      <td>NaN</td>\n",
       "      <td>NaN</td>\n",
       "      <td>NaN</td>\n",
       "      <td>NaN</td>\n",
       "      <td>0.003255</td>\n",
       "    </tr>\n",
       "    <tr>\n",
       "      <th>Total Rated Electrical Discharge Capacity (kW)</th>\n",
       "      <td>-0.027425</td>\n",
       "      <td>-0.005307</td>\n",
       "      <td>1.000000</td>\n",
       "      <td>0.380330</td>\n",
       "      <td>NaN</td>\n",
       "      <td>-0.005650</td>\n",
       "      <td>-0.006521</td>\n",
       "      <td>-0.002401</td>\n",
       "      <td>NaN</td>\n",
       "      <td>NaN</td>\n",
       "      <td>NaN</td>\n",
       "      <td>NaN</td>\n",
       "      <td>-0.005134</td>\n",
       "    </tr>\n",
       "    <tr>\n",
       "      <th>Total Rated Electrical Storage Capacity (kWh)</th>\n",
       "      <td>-0.025635</td>\n",
       "      <td>-0.005002</td>\n",
       "      <td>0.380330</td>\n",
       "      <td>1.000000</td>\n",
       "      <td>NaN</td>\n",
       "      <td>-0.005325</td>\n",
       "      <td>-0.006147</td>\n",
       "      <td>-0.002263</td>\n",
       "      <td>NaN</td>\n",
       "      <td>NaN</td>\n",
       "      <td>NaN</td>\n",
       "      <td>NaN</td>\n",
       "      <td>-0.004043</td>\n",
       "    </tr>\n",
       "    <tr>\n",
       "      <th>Total Rated Cooling Energy Discharge Capacity (ton)</th>\n",
       "      <td>NaN</td>\n",
       "      <td>NaN</td>\n",
       "      <td>NaN</td>\n",
       "      <td>NaN</td>\n",
       "      <td>NaN</td>\n",
       "      <td>NaN</td>\n",
       "      <td>NaN</td>\n",
       "      <td>NaN</td>\n",
       "      <td>NaN</td>\n",
       "      <td>NaN</td>\n",
       "      <td>NaN</td>\n",
       "      <td>NaN</td>\n",
       "      <td>NaN</td>\n",
       "    </tr>\n",
       "    <tr>\n",
       "      <th>Total Equivalent Electrical Discharge Capacity from Cooling Sources (kW)</th>\n",
       "      <td>-0.035714</td>\n",
       "      <td>-0.007077</td>\n",
       "      <td>-0.005650</td>\n",
       "      <td>-0.005325</td>\n",
       "      <td>NaN</td>\n",
       "      <td>1.000000</td>\n",
       "      <td>0.954143</td>\n",
       "      <td>0.836265</td>\n",
       "      <td>NaN</td>\n",
       "      <td>NaN</td>\n",
       "      <td>NaN</td>\n",
       "      <td>NaN</td>\n",
       "      <td>-0.007920</td>\n",
       "    </tr>\n",
       "    <tr>\n",
       "      <th>Total Rated Cooling Energy Storage Capacity (ton-hour)</th>\n",
       "      <td>-0.041592</td>\n",
       "      <td>-0.008169</td>\n",
       "      <td>-0.006521</td>\n",
       "      <td>-0.006147</td>\n",
       "      <td>NaN</td>\n",
       "      <td>0.954143</td>\n",
       "      <td>1.000000</td>\n",
       "      <td>0.743799</td>\n",
       "      <td>NaN</td>\n",
       "      <td>NaN</td>\n",
       "      <td>NaN</td>\n",
       "      <td>NaN</td>\n",
       "      <td>-0.009141</td>\n",
       "    </tr>\n",
       "    <tr>\n",
       "      <th>Total Equivalent Electrical Storage Capacity from Cooling Sources (kWh)</th>\n",
       "      <td>-0.015644</td>\n",
       "      <td>-0.003008</td>\n",
       "      <td>-0.002401</td>\n",
       "      <td>-0.002263</td>\n",
       "      <td>NaN</td>\n",
       "      <td>0.836265</td>\n",
       "      <td>0.743799</td>\n",
       "      <td>1.000000</td>\n",
       "      <td>NaN</td>\n",
       "      <td>NaN</td>\n",
       "      <td>NaN</td>\n",
       "      <td>NaN</td>\n",
       "      <td>-0.003366</td>\n",
       "    </tr>\n",
       "    <tr>\n",
       "      <th>Total Rated Thermal Energy Discharge Capacity (MBtu/h)</th>\n",
       "      <td>NaN</td>\n",
       "      <td>NaN</td>\n",
       "      <td>NaN</td>\n",
       "      <td>NaN</td>\n",
       "      <td>NaN</td>\n",
       "      <td>NaN</td>\n",
       "      <td>NaN</td>\n",
       "      <td>NaN</td>\n",
       "      <td>NaN</td>\n",
       "      <td>NaN</td>\n",
       "      <td>NaN</td>\n",
       "      <td>NaN</td>\n",
       "      <td>NaN</td>\n",
       "    </tr>\n",
       "    <tr>\n",
       "      <th>Total Equivalent Electrical Discharge Capacity from Thermal Sources (kW)</th>\n",
       "      <td>NaN</td>\n",
       "      <td>NaN</td>\n",
       "      <td>NaN</td>\n",
       "      <td>NaN</td>\n",
       "      <td>NaN</td>\n",
       "      <td>NaN</td>\n",
       "      <td>NaN</td>\n",
       "      <td>NaN</td>\n",
       "      <td>NaN</td>\n",
       "      <td>NaN</td>\n",
       "      <td>NaN</td>\n",
       "      <td>NaN</td>\n",
       "      <td>NaN</td>\n",
       "    </tr>\n",
       "    <tr>\n",
       "      <th>Total Rated Thermal Energy Storage Capacity (MBtu)</th>\n",
       "      <td>NaN</td>\n",
       "      <td>NaN</td>\n",
       "      <td>NaN</td>\n",
       "      <td>NaN</td>\n",
       "      <td>NaN</td>\n",
       "      <td>NaN</td>\n",
       "      <td>NaN</td>\n",
       "      <td>NaN</td>\n",
       "      <td>NaN</td>\n",
       "      <td>NaN</td>\n",
       "      <td>NaN</td>\n",
       "      <td>NaN</td>\n",
       "      <td>NaN</td>\n",
       "    </tr>\n",
       "    <tr>\n",
       "      <th>Total Equivalent Electrical Storage Capacity from Thermal Sources (kWh)</th>\n",
       "      <td>NaN</td>\n",
       "      <td>NaN</td>\n",
       "      <td>NaN</td>\n",
       "      <td>NaN</td>\n",
       "      <td>NaN</td>\n",
       "      <td>NaN</td>\n",
       "      <td>NaN</td>\n",
       "      <td>NaN</td>\n",
       "      <td>NaN</td>\n",
       "      <td>NaN</td>\n",
       "      <td>NaN</td>\n",
       "      <td>NaN</td>\n",
       "      <td>NaN</td>\n",
       "    </tr>\n",
       "    <tr>\n",
       "      <th>Installed Systems</th>\n",
       "      <td>0.112160</td>\n",
       "      <td>0.003255</td>\n",
       "      <td>-0.005134</td>\n",
       "      <td>-0.004043</td>\n",
       "      <td>NaN</td>\n",
       "      <td>-0.007920</td>\n",
       "      <td>-0.009141</td>\n",
       "      <td>-0.003366</td>\n",
       "      <td>NaN</td>\n",
       "      <td>NaN</td>\n",
       "      <td>NaN</td>\n",
       "      <td>NaN</td>\n",
       "      <td>1.000000</td>\n",
       "    </tr>\n",
       "  </tbody>\n",
       "</table>\n",
       "</div>"
      ],
      "text/plain": [
       "                                                    Total Rated Electric Generation (kW)  \\\n",
       "Total Rated Electric Generation (kW)                                            1.000000   \n",
       "Total Rated Heat Generation (MBtu/h)                                            0.157261   \n",
       "Total Rated Electrical Discharge Capacity (kW)                                 -0.027425   \n",
       "Total Rated Electrical Storage Capacity (kWh)                                  -0.025635   \n",
       "Total Rated Cooling Energy Discharge Capacity (...                                   NaN   \n",
       "Total Equivalent Electrical Discharge Capacity ...                             -0.035714   \n",
       "Total Rated Cooling Energy Storage Capacity (to...                             -0.041592   \n",
       "Total Equivalent Electrical Storage Capacity fr...                             -0.015644   \n",
       "Total Rated Thermal Energy Discharge Capacity (...                                   NaN   \n",
       "Total Equivalent Electrical Discharge Capacity ...                                   NaN   \n",
       "Total Rated Thermal Energy Storage Capacity (MBtu)                                   NaN   \n",
       "Total Equivalent Electrical Storage Capacity fr...                                   NaN   \n",
       "Installed Systems                                                               0.112160   \n",
       "\n",
       "                                                    Total Rated Heat Generation (MBtu/h)  \\\n",
       "Total Rated Electric Generation (kW)                                            0.157261   \n",
       "Total Rated Heat Generation (MBtu/h)                                            1.000000   \n",
       "Total Rated Electrical Discharge Capacity (kW)                                 -0.005307   \n",
       "Total Rated Electrical Storage Capacity (kWh)                                  -0.005002   \n",
       "Total Rated Cooling Energy Discharge Capacity (...                                   NaN   \n",
       "Total Equivalent Electrical Discharge Capacity ...                             -0.007077   \n",
       "Total Rated Cooling Energy Storage Capacity (to...                             -0.008169   \n",
       "Total Equivalent Electrical Storage Capacity fr...                             -0.003008   \n",
       "Total Rated Thermal Energy Discharge Capacity (...                                   NaN   \n",
       "Total Equivalent Electrical Discharge Capacity ...                                   NaN   \n",
       "Total Rated Thermal Energy Storage Capacity (MBtu)                                   NaN   \n",
       "Total Equivalent Electrical Storage Capacity fr...                                   NaN   \n",
       "Installed Systems                                                               0.003255   \n",
       "\n",
       "                                                    Total Rated Electrical Discharge Capacity (kW)  \\\n",
       "Total Rated Electric Generation (kW)                                                     -0.027425   \n",
       "Total Rated Heat Generation (MBtu/h)                                                     -0.005307   \n",
       "Total Rated Electrical Discharge Capacity (kW)                                            1.000000   \n",
       "Total Rated Electrical Storage Capacity (kWh)                                             0.380330   \n",
       "Total Rated Cooling Energy Discharge Capacity (...                                             NaN   \n",
       "Total Equivalent Electrical Discharge Capacity ...                                       -0.005650   \n",
       "Total Rated Cooling Energy Storage Capacity (to...                                       -0.006521   \n",
       "Total Equivalent Electrical Storage Capacity fr...                                       -0.002401   \n",
       "Total Rated Thermal Energy Discharge Capacity (...                                             NaN   \n",
       "Total Equivalent Electrical Discharge Capacity ...                                             NaN   \n",
       "Total Rated Thermal Energy Storage Capacity (MBtu)                                             NaN   \n",
       "Total Equivalent Electrical Storage Capacity fr...                                             NaN   \n",
       "Installed Systems                                                                        -0.005134   \n",
       "\n",
       "                                                    Total Rated Electrical Storage Capacity (kWh)  \\\n",
       "Total Rated Electric Generation (kW)                                                    -0.025635   \n",
       "Total Rated Heat Generation (MBtu/h)                                                    -0.005002   \n",
       "Total Rated Electrical Discharge Capacity (kW)                                           0.380330   \n",
       "Total Rated Electrical Storage Capacity (kWh)                                            1.000000   \n",
       "Total Rated Cooling Energy Discharge Capacity (...                                            NaN   \n",
       "Total Equivalent Electrical Discharge Capacity ...                                      -0.005325   \n",
       "Total Rated Cooling Energy Storage Capacity (to...                                      -0.006147   \n",
       "Total Equivalent Electrical Storage Capacity fr...                                      -0.002263   \n",
       "Total Rated Thermal Energy Discharge Capacity (...                                            NaN   \n",
       "Total Equivalent Electrical Discharge Capacity ...                                            NaN   \n",
       "Total Rated Thermal Energy Storage Capacity (MBtu)                                            NaN   \n",
       "Total Equivalent Electrical Storage Capacity fr...                                            NaN   \n",
       "Installed Systems                                                                       -0.004043   \n",
       "\n",
       "                                                    Total Rated Cooling Energy Discharge Capacity (ton)  \\\n",
       "Total Rated Electric Generation (kW)                                                              NaN     \n",
       "Total Rated Heat Generation (MBtu/h)                                                              NaN     \n",
       "Total Rated Electrical Discharge Capacity (kW)                                                    NaN     \n",
       "Total Rated Electrical Storage Capacity (kWh)                                                     NaN     \n",
       "Total Rated Cooling Energy Discharge Capacity (...                                                NaN     \n",
       "Total Equivalent Electrical Discharge Capacity ...                                                NaN     \n",
       "Total Rated Cooling Energy Storage Capacity (to...                                                NaN     \n",
       "Total Equivalent Electrical Storage Capacity fr...                                                NaN     \n",
       "Total Rated Thermal Energy Discharge Capacity (...                                                NaN     \n",
       "Total Equivalent Electrical Discharge Capacity ...                                                NaN     \n",
       "Total Rated Thermal Energy Storage Capacity (MBtu)                                                NaN     \n",
       "Total Equivalent Electrical Storage Capacity fr...                                                NaN     \n",
       "Installed Systems                                                                                 NaN     \n",
       "\n",
       "                                                    Total Equivalent Electrical Discharge Capacity from Cooling Sources (kW)  \\\n",
       "Total Rated Electric Generation (kW)                                                        -0.035714                          \n",
       "Total Rated Heat Generation (MBtu/h)                                                        -0.007077                          \n",
       "Total Rated Electrical Discharge Capacity (kW)                                              -0.005650                          \n",
       "Total Rated Electrical Storage Capacity (kWh)                                               -0.005325                          \n",
       "Total Rated Cooling Energy Discharge Capacity (...                                                NaN                          \n",
       "Total Equivalent Electrical Discharge Capacity ...                                           1.000000                          \n",
       "Total Rated Cooling Energy Storage Capacity (to...                                           0.954143                          \n",
       "Total Equivalent Electrical Storage Capacity fr...                                           0.836265                          \n",
       "Total Rated Thermal Energy Discharge Capacity (...                                                NaN                          \n",
       "Total Equivalent Electrical Discharge Capacity ...                                                NaN                          \n",
       "Total Rated Thermal Energy Storage Capacity (MBtu)                                                NaN                          \n",
       "Total Equivalent Electrical Storage Capacity fr...                                                NaN                          \n",
       "Installed Systems                                                                           -0.007920                          \n",
       "\n",
       "                                                    Total Rated Cooling Energy Storage Capacity (ton-hour)  \\\n",
       "Total Rated Electric Generation (kW)                                                        -0.041592        \n",
       "Total Rated Heat Generation (MBtu/h)                                                        -0.008169        \n",
       "Total Rated Electrical Discharge Capacity (kW)                                              -0.006521        \n",
       "Total Rated Electrical Storage Capacity (kWh)                                               -0.006147        \n",
       "Total Rated Cooling Energy Discharge Capacity (...                                                NaN        \n",
       "Total Equivalent Electrical Discharge Capacity ...                                           0.954143        \n",
       "Total Rated Cooling Energy Storage Capacity (to...                                           1.000000        \n",
       "Total Equivalent Electrical Storage Capacity fr...                                           0.743799        \n",
       "Total Rated Thermal Energy Discharge Capacity (...                                                NaN        \n",
       "Total Equivalent Electrical Discharge Capacity ...                                                NaN        \n",
       "Total Rated Thermal Energy Storage Capacity (MBtu)                                                NaN        \n",
       "Total Equivalent Electrical Storage Capacity fr...                                                NaN        \n",
       "Installed Systems                                                                           -0.009141        \n",
       "\n",
       "                                                    Total Equivalent Electrical Storage Capacity from Cooling Sources (kWh)  \\\n",
       "Total Rated Electric Generation (kW)                                                        -0.015644                         \n",
       "Total Rated Heat Generation (MBtu/h)                                                        -0.003008                         \n",
       "Total Rated Electrical Discharge Capacity (kW)                                              -0.002401                         \n",
       "Total Rated Electrical Storage Capacity (kWh)                                               -0.002263                         \n",
       "Total Rated Cooling Energy Discharge Capacity (...                                                NaN                         \n",
       "Total Equivalent Electrical Discharge Capacity ...                                           0.836265                         \n",
       "Total Rated Cooling Energy Storage Capacity (to...                                           0.743799                         \n",
       "Total Equivalent Electrical Storage Capacity fr...                                           1.000000                         \n",
       "Total Rated Thermal Energy Discharge Capacity (...                                                NaN                         \n",
       "Total Equivalent Electrical Discharge Capacity ...                                                NaN                         \n",
       "Total Rated Thermal Energy Storage Capacity (MBtu)                                                NaN                         \n",
       "Total Equivalent Electrical Storage Capacity fr...                                                NaN                         \n",
       "Installed Systems                                                                           -0.003366                         \n",
       "\n",
       "                                                    Total Rated Thermal Energy Discharge Capacity (MBtu/h)  \\\n",
       "Total Rated Electric Generation (kW)                                                              NaN        \n",
       "Total Rated Heat Generation (MBtu/h)                                                              NaN        \n",
       "Total Rated Electrical Discharge Capacity (kW)                                                    NaN        \n",
       "Total Rated Electrical Storage Capacity (kWh)                                                     NaN        \n",
       "Total Rated Cooling Energy Discharge Capacity (...                                                NaN        \n",
       "Total Equivalent Electrical Discharge Capacity ...                                                NaN        \n",
       "Total Rated Cooling Energy Storage Capacity (to...                                                NaN        \n",
       "Total Equivalent Electrical Storage Capacity fr...                                                NaN        \n",
       "Total Rated Thermal Energy Discharge Capacity (...                                                NaN        \n",
       "Total Equivalent Electrical Discharge Capacity ...                                                NaN        \n",
       "Total Rated Thermal Energy Storage Capacity (MBtu)                                                NaN        \n",
       "Total Equivalent Electrical Storage Capacity fr...                                                NaN        \n",
       "Installed Systems                                                                                 NaN        \n",
       "\n",
       "                                                    Total Equivalent Electrical Discharge Capacity from Thermal Sources (kW)  \\\n",
       "Total Rated Electric Generation (kW)                                                              NaN                          \n",
       "Total Rated Heat Generation (MBtu/h)                                                              NaN                          \n",
       "Total Rated Electrical Discharge Capacity (kW)                                                    NaN                          \n",
       "Total Rated Electrical Storage Capacity (kWh)                                                     NaN                          \n",
       "Total Rated Cooling Energy Discharge Capacity (...                                                NaN                          \n",
       "Total Equivalent Electrical Discharge Capacity ...                                                NaN                          \n",
       "Total Rated Cooling Energy Storage Capacity (to...                                                NaN                          \n",
       "Total Equivalent Electrical Storage Capacity fr...                                                NaN                          \n",
       "Total Rated Thermal Energy Discharge Capacity (...                                                NaN                          \n",
       "Total Equivalent Electrical Discharge Capacity ...                                                NaN                          \n",
       "Total Rated Thermal Energy Storage Capacity (MBtu)                                                NaN                          \n",
       "Total Equivalent Electrical Storage Capacity fr...                                                NaN                          \n",
       "Installed Systems                                                                                 NaN                          \n",
       "\n",
       "                                                    Total Rated Thermal Energy Storage Capacity (MBtu)  \\\n",
       "Total Rated Electric Generation (kW)                                                              NaN    \n",
       "Total Rated Heat Generation (MBtu/h)                                                              NaN    \n",
       "Total Rated Electrical Discharge Capacity (kW)                                                    NaN    \n",
       "Total Rated Electrical Storage Capacity (kWh)                                                     NaN    \n",
       "Total Rated Cooling Energy Discharge Capacity (...                                                NaN    \n",
       "Total Equivalent Electrical Discharge Capacity ...                                                NaN    \n",
       "Total Rated Cooling Energy Storage Capacity (to...                                                NaN    \n",
       "Total Equivalent Electrical Storage Capacity fr...                                                NaN    \n",
       "Total Rated Thermal Energy Discharge Capacity (...                                                NaN    \n",
       "Total Equivalent Electrical Discharge Capacity ...                                                NaN    \n",
       "Total Rated Thermal Energy Storage Capacity (MBtu)                                                NaN    \n",
       "Total Equivalent Electrical Storage Capacity fr...                                                NaN    \n",
       "Installed Systems                                                                                 NaN    \n",
       "\n",
       "                                                    Total Equivalent Electrical Storage Capacity from Thermal Sources (kWh)  \\\n",
       "Total Rated Electric Generation (kW)                                                              NaN                         \n",
       "Total Rated Heat Generation (MBtu/h)                                                              NaN                         \n",
       "Total Rated Electrical Discharge Capacity (kW)                                                    NaN                         \n",
       "Total Rated Electrical Storage Capacity (kWh)                                                     NaN                         \n",
       "Total Rated Cooling Energy Discharge Capacity (...                                                NaN                         \n",
       "Total Equivalent Electrical Discharge Capacity ...                                                NaN                         \n",
       "Total Rated Cooling Energy Storage Capacity (to...                                                NaN                         \n",
       "Total Equivalent Electrical Storage Capacity fr...                                                NaN                         \n",
       "Total Rated Thermal Energy Discharge Capacity (...                                                NaN                         \n",
       "Total Equivalent Electrical Discharge Capacity ...                                                NaN                         \n",
       "Total Rated Thermal Energy Storage Capacity (MBtu)                                                NaN                         \n",
       "Total Equivalent Electrical Storage Capacity fr...                                                NaN                         \n",
       "Installed Systems                                                                                 NaN                         \n",
       "\n",
       "                                                    Installed Systems  \n",
       "Total Rated Electric Generation (kW)                         0.112160  \n",
       "Total Rated Heat Generation (MBtu/h)                         0.003255  \n",
       "Total Rated Electrical Discharge Capacity (kW)              -0.005134  \n",
       "Total Rated Electrical Storage Capacity (kWh)               -0.004043  \n",
       "Total Rated Cooling Energy Discharge Capacity (...                NaN  \n",
       "Total Equivalent Electrical Discharge Capacity ...          -0.007920  \n",
       "Total Rated Cooling Energy Storage Capacity (to...          -0.009141  \n",
       "Total Equivalent Electrical Storage Capacity fr...          -0.003366  \n",
       "Total Rated Thermal Energy Discharge Capacity (...                NaN  \n",
       "Total Equivalent Electrical Discharge Capacity ...                NaN  \n",
       "Total Rated Thermal Energy Storage Capacity (MBtu)                NaN  \n",
       "Total Equivalent Electrical Storage Capacity fr...                NaN  \n",
       "Installed Systems                                            1.000000  "
      ]
     },
     "execution_count": 23,
     "metadata": {},
     "output_type": "execute_result"
    }
   ],
   "source": [
    "#df_num.drop(df_num.columns[0:2], axis=1, inplace=True)\n",
    "df_num.corr()"
   ]
  },
  {
   "cell_type": "code",
   "execution_count": 56,
   "metadata": {},
   "outputs": [
    {
     "data": {
      "image/png": "[encoded data removed]",
      "text/plain": [
       "<matplotlib.figure.Figure at 0x284db8ad978>"
      ]
     },
     "metadata": {},
     "output_type": "display_data"
    }
   ],
   "source": [
    "m=max(df_num[\"Total Rated Heat Generation (MBtu/h)\"])\n",
    "# remove outliers and 0s\n",
    "df2 = df_num.loc[(df_num[\"Total Rated Heat Generation (MBtu/h)\"]!=0) & (df_num[\"Total Rated Heat Generation (MBtu/h)\"]!=m)\n",
    "                 & (df_num[\"Total Rated Heat Generation (MBtu/h)\"]<70000),:]\n",
    "plt.scatter(df2[\"Total Rated Electric Generation (kW)\"], df2[\"Total Rated Heat Generation (MBtu/h)\"])\n",
    "plt.ylabel('Total Rated Heat Generation in (MBtu/h)')\n",
    "plt.xlabel('Total Rated Electric Generation in (kW)')\n",
    "plt.title('Rated heat generation vs. Rated Electric Generation', fontweight='bold')\n",
    "fig=plt.gcf()\n",
    "fig.set_size_inches(5,5)\n",
    "plt.savefig('biva1.jpg')\n",
    "plt.show()"
   ]
  },
  {
   "cell_type": "code",
   "execution_count": 57,
   "metadata": {},
   "outputs": [
    {
     "data": {
      "image/png": "[encoded data removed]",
      "text/plain": [
       "<matplotlib.figure.Figure at 0x284d9f11c18>"
      ]
     },
     "metadata": {},
     "output_type": "display_data"
    }
   ],
   "source": [
    "m = max(df[\"Total Equivalent Electrical Discharge Capacity from Cooling Sources (kW)\"])\n",
    "# remove outliers and 0s\n",
    "df2 = df.loc[(df[\"Total Equivalent Electrical Discharge Capacity from Cooling Sources (kW)\"]!=0) & (df[\"Total Equivalent Electrical Discharge Capacity from Cooling Sources (kW)\"]!=m),:]\n",
    "plt.scatter(df2[\"Total Rated Cooling Energy Storage Capacity (ton-hour)\"], df2[\"Total Equivalent Electrical Discharge Capacity from Cooling Sources (kW)\"])\n",
    "plt.xlabel('Cooling Energy Storage Capacity in (ton-hour)')\n",
    "plt.ylabel('Electrical Discharge Capacity in (kW)')\n",
    "plt.title('Cooling storage cpcty. vs. Electric Discharge cpcty from cooling', fontweight='bold')\n",
    "plt.show()"
   ]
  },
  {
   "cell_type": "code",
   "execution_count": 61,
   "metadata": {},
   "outputs": [
    {
     "data": {
      "image/png": "[encoded data removed]",
      "text/plain": [
       "<matplotlib.figure.Figure at 0x284da2cc550>"
      ]
     },
     "metadata": {},
     "output_type": "display_data"
    }
   ],
   "source": [
    "m = max(df[\"Total Equivalent Electrical Storage Capacity from Cooling Sources (kWh)\"])\n",
    "# remove outliers and 0s\n",
    "df2 = df.loc[(df[\"Total Equivalent Electrical Storage Capacity from Cooling Sources (kWh)\"]!=0) & (df[\"Total Equivalent Electrical Storage Capacity from Cooling Sources (kWh)\"]!=m),:]\n",
    "plt.scatter(df2[\"Total Equivalent Electrical Storage Capacity from Cooling Sources (kWh)\"], df2[\"Total Equivalent Electrical Discharge Capacity from Cooling Sources (kW)\"])\n",
    "plt.xlabel('Electrical Storage Capacity in (kWh)')\n",
    "plt.ylabel('Electrical Discharge Capacity in (kW)')\n",
    "plt.title('Electrical Storage Cpcty vs. Electrical Discharge Cpcty', fontweight='bold')\n",
    "fig=plt.gcf()\n",
    "fig.set_size_inches(6,6)\n",
    "plt.savefig('biva2.jpg')\n",
    "plt.show()"
   ]
  },
  {
   "cell_type": "code",
   "execution_count": 62,
   "metadata": {},
   "outputs": [
    {
     "data": {
      "image/png": "[encoded data removed]",
      "text/plain": [
       "<matplotlib.figure.Figure at 0x284db986390>"
      ]
     },
     "metadata": {},
     "output_type": "display_data"
    }
   ],
   "source": [
    "m = max(df[\"Total Equivalent Electrical Storage Capacity from Cooling Sources (kWh)\"])\n",
    "# remove outliers and 0s\n",
    "df2 = df.loc[(df[\"Total Equivalent Electrical Storage Capacity from Cooling Sources (kWh)\"]!=0) & (df[\"Total Equivalent Electrical Storage Capacity from Cooling Sources (kWh)\"]!=m),:]\n",
    "plt.scatter(df2[\"Total Equivalent Electrical Storage Capacity from Cooling Sources (kWh)\"], df2[\"Total Rated Cooling Energy Storage Capacity (ton-hour)\"])\n",
    "plt.xlabel('Electrical Storage Capacity from Cooling Sources in (kWh)')\n",
    "plt.ylabel('Cooling Energy Storage Capacity in (ton-hour)')\n",
    "plt.title('Electrical Storage cpcty vs. Cooling Energy Storage cpcty', fontweight='bold')\n",
    "fig=plt.gcf()\n",
    "fig.set_size_inches(7,7)\n",
    "plt.savefig('biva3.jpg')\n",
    "plt.show()"
   ]
  },
  {
   "cell_type": "code",
   "execution_count": 10,
   "metadata": {},
   "outputs": [
    {
     "data": {
      "text/html": [
       "<div>\n",
       "<style>\n",
       "    .dataframe thead tr:only-child th {\n",
       "        text-align: right;\n",
       "    }\n",
       "\n",
       "    .dataframe thead th {\n",
       "        text-align: left;\n",
       "    }\n",
       "\n",
       "    .dataframe tbody tr th {\n",
       "        vertical-align: top;\n",
       "    }\n",
       "</style>\n",
       "<table border=\"1\" class=\"dataframe\">\n",
       "  <thead>\n",
       "    <tr style=\"text-align: right;\">\n",
       "      <th></th>\n",
       "      <th>Total Rated Electric Generation (kW)</th>\n",
       "      <th>Total Rated Heat Generation (MBtu/h)</th>\n",
       "      <th>Total Rated Electrical Discharge Capacity (kW)</th>\n",
       "      <th>Total Rated Electrical Storage Capacity (kWh)</th>\n",
       "      <th>Total Rated Cooling Energy Discharge Capacity (ton)</th>\n",
       "      <th>Total Equivalent Electrical Discharge Capacity from Cooling Sources (kW)</th>\n",
       "      <th>Total Rated Cooling Energy Storage Capacity (ton-hour)</th>\n",
       "      <th>Total Equivalent Electrical Storage Capacity from Cooling Sources (kWh)</th>\n",
       "      <th>Total Rated Thermal Energy Discharge Capacity (MBtu/h)</th>\n",
       "      <th>Total Equivalent Electrical Discharge Capacity from Thermal Sources (kW)</th>\n",
       "      <th>Total Rated Thermal Energy Storage Capacity (MBtu)</th>\n",
       "      <th>Total Equivalent Electrical Storage Capacity from Thermal Sources (kWh)</th>\n",
       "      <th>Installed Systems</th>\n",
       "    </tr>\n",
       "  </thead>\n",
       "  <tbody>\n",
       "    <tr>\n",
       "      <th>0</th>\n",
       "      <td>0.0</td>\n",
       "      <td>0.0</td>\n",
       "      <td>0.0</td>\n",
       "      <td>0.0</td>\n",
       "      <td>0</td>\n",
       "      <td>0.0</td>\n",
       "      <td>0</td>\n",
       "      <td>0.0</td>\n",
       "      <td>0</td>\n",
       "      <td>0</td>\n",
       "      <td>0</td>\n",
       "      <td>0</td>\n",
       "      <td>1</td>\n",
       "    </tr>\n",
       "  </tbody>\n",
       "</table>\n",
       "</div>"
      ],
      "text/plain": [
       "   Total Rated Electric Generation (kW)  Total Rated Heat Generation (MBtu/h)  \\\n",
       "0                                   0.0                                   0.0   \n",
       "\n",
       "   Total Rated Electrical Discharge Capacity (kW)  \\\n",
       "0                                             0.0   \n",
       "\n",
       "   Total Rated Electrical Storage Capacity (kWh)  \\\n",
       "0                                            0.0   \n",
       "\n",
       "   Total Rated Cooling Energy Discharge Capacity (ton)  \\\n",
       "0                                                  0     \n",
       "\n",
       "   Total Equivalent Electrical Discharge Capacity from Cooling Sources (kW)  \\\n",
       "0                                                0.0                          \n",
       "\n",
       "   Total Rated Cooling Energy Storage Capacity (ton-hour)  \\\n",
       "0                                                  0        \n",
       "\n",
       "   Total Equivalent Electrical Storage Capacity from Cooling Sources (kWh)  \\\n",
       "0                                                0.0                         \n",
       "\n",
       "   Total Rated Thermal Energy Discharge Capacity (MBtu/h)  \\\n",
       "0                                                  0        \n",
       "\n",
       "   Total Equivalent Electrical Discharge Capacity from Thermal Sources (kW)  \\\n",
       "0                                                  0                          \n",
       "\n",
       "   Total Rated Thermal Energy Storage Capacity (MBtu)  \\\n",
       "0                                                  0    \n",
       "\n",
       "   Total Equivalent Electrical Storage Capacity from Thermal Sources (kWh)  \\\n",
       "0                                                  0                         \n",
       "\n",
       "   Installed Systems  \n",
       "0                  1  "
      ]
     },
     "execution_count": 10,
     "metadata": {},
     "output_type": "execute_result"
    }
   ],
   "source": [
    "df_num.mode(numeric_only=True)"
   ]
  },
  {
   "cell_type": "code",
   "execution_count": 11,
   "metadata": {},
   "outputs": [
    {
     "name": "stdout",
     "output_type": "stream",
     "text": [
      "0.0      184\n",
      "210.0     21\n",
      "100.0     20\n",
      "300.0     19\n",
      "150.0     15\n",
      "Name: Total Rated Electric Generation (kW), dtype: int64\n",
      "\n",
      "0.0       708\n",
      "523.0      13\n",
      "700.0       8\n",
      "1046.0      7\n",
      "1400.0      5\n",
      "Name: Total Rated Heat Generation (MBtu/h), dtype: int64\n",
      "\n",
      "0.0      678\n",
      "5.0       64\n",
      "10.0      22\n",
      "100.0     10\n",
      "15.0       5\n",
      "Name: Total Rated Electrical Discharge Capacity (kW), dtype: int64\n",
      "\n",
      "0.0      750\n",
      "13.5      33\n",
      "400.0      8\n",
      "300.0      2\n",
      "200.0      2\n",
      "Name: Total Rated Electrical Storage Capacity (kWh), dtype: int64\n",
      "\n",
      "0    811\n",
      "Name: Total Rated Cooling Energy Discharge Capacity (ton), dtype: int64\n",
      "\n",
      "0.0       800\n",
      "1100.0      2\n",
      "620.7       1\n",
      "419.0       1\n",
      "1567.5      1\n",
      "Name: Total Equivalent Electrical Discharge Capacity from Cooling Sources (kW), dtype: int64\n",
      "\n",
      "0       797\n",
      "9000      2\n",
      "1522      2\n",
      "4000      1\n",
      "6000      1\n",
      "Name: Total Rated Cooling Energy Storage Capacity (ton-hour), dtype: int64\n",
      "\n",
      "0.0          802\n",
      "1228680.0      1\n",
      "9519.0         1\n",
      "9405.0         1\n",
      "6270.0         1\n",
      "Name: Total Equivalent Electrical Storage Capacity from Cooling Sources (kWh), dtype: int64\n",
      "\n",
      "0    811\n",
      "Name: Total Rated Thermal Energy Discharge Capacity (MBtu/h), dtype: int64\n",
      "\n",
      "0    811\n",
      "Name: Total Equivalent Electrical Discharge Capacity from Thermal Sources (kW), dtype: int64\n",
      "\n",
      "0    811\n",
      "Name: Total Rated Thermal Energy Storage Capacity (MBtu), dtype: int64\n",
      "\n",
      "0    811\n",
      "Name: Total Equivalent Electrical Storage Capacity from Thermal Sources (kWh), dtype: int64\n",
      "\n",
      "1    723\n",
      "0     39\n",
      "2     33\n",
      "3      9\n",
      "4      4\n",
      "Name: Installed Systems, dtype: int64\n",
      "\n"
     ]
    }
   ],
   "source": [
    "for c in df_num.columns:\n",
    "    print(df_num[c].value_counts().head(), end=\"\\n\\n\")\n",
    "# The following columns are all 0s\n",
    "# Total Rated Cooling Energy Discharge Capacity (ton)\n",
    "# Total Rated Thermal Energy Discharge Capacity (MBtu/h)\n",
    "# Total Equivalent Electrical Discharge Capacity from Thermal Sources (kW)\n",
    "# Total Rated Thermal Energy Storage Capacity (MBtu)\n",
    "# Total Equivalent Electrical Storage Capacity from Thermal Sources (kWh)"
   ]
  },
  {
   "cell_type": "code",
   "execution_count": 12,
   "metadata": {},
   "outputs": [
    {
     "data": {
      "text/html": [
       "<div>\n",
       "<style>\n",
       "    .dataframe thead tr:only-child th {\n",
       "        text-align: right;\n",
       "    }\n",
       "\n",
       "    .dataframe thead th {\n",
       "        text-align: left;\n",
       "    }\n",
       "\n",
       "    .dataframe tbody tr th {\n",
       "        vertical-align: top;\n",
       "    }\n",
       "</style>\n",
       "<table border=\"1\" class=\"dataframe\">\n",
       "  <thead>\n",
       "    <tr style=\"text-align: right;\">\n",
       "      <th></th>\n",
       "      <th>Installed Systems</th>\n",
       "      <th>Total Equivalent Electrical Discharge Capacity from Cooling Sources (kW)</th>\n",
       "      <th>Total Equivalent Electrical Discharge Capacity from Thermal Sources (kW)</th>\n",
       "      <th>Total Equivalent Electrical Storage Capacity from Cooling Sources (kWh)</th>\n",
       "      <th>Total Equivalent Electrical Storage Capacity from Thermal Sources (kWh)</th>\n",
       "      <th>Total Rated Cooling Energy Discharge Capacity (ton)</th>\n",
       "      <th>Total Rated Cooling Energy Storage Capacity (ton-hour)</th>\n",
       "      <th>Total Rated Electric Generation (kW)</th>\n",
       "      <th>Total Rated Electrical Discharge Capacity (kW)</th>\n",
       "      <th>Total Rated Electrical Storage Capacity (kWh)</th>\n",
       "      <th>Total Rated Heat Generation (MBtu/h)</th>\n",
       "      <th>Total Rated Thermal Energy Discharge Capacity (MBtu/h)</th>\n",
       "      <th>Total Rated Thermal Energy Storage Capacity (MBtu)</th>\n",
       "    </tr>\n",
       "  </thead>\n",
       "  <tbody>\n",
       "    <tr>\n",
       "      <th>median value</th>\n",
       "      <td>3.0</td>\n",
       "      <td>1045.0</td>\n",
       "      <td>0.0</td>\n",
       "      <td>7419.5</td>\n",
       "      <td>0.0</td>\n",
       "      <td>0.0</td>\n",
       "      <td>6200.0</td>\n",
       "      <td>589.66</td>\n",
       "      <td>100.0</td>\n",
       "      <td>400.0</td>\n",
       "      <td>1265.5</td>\n",
       "      <td>0.0</td>\n",
       "      <td>0.0</td>\n",
       "    </tr>\n",
       "  </tbody>\n",
       "</table>\n",
       "</div>"
      ],
      "text/plain": [
       "              Installed Systems  \\\n",
       "median value                3.0   \n",
       "\n",
       "              Total Equivalent Electrical Discharge Capacity from Cooling Sources (kW)  \\\n",
       "median value                                             1045.0                          \n",
       "\n",
       "              Total Equivalent Electrical Discharge Capacity from Thermal Sources (kW)  \\\n",
       "median value                                                0.0                          \n",
       "\n",
       "              Total Equivalent Electrical Storage Capacity from Cooling Sources (kWh)  \\\n",
       "median value                                             7419.5                         \n",
       "\n",
       "              Total Equivalent Electrical Storage Capacity from Thermal Sources (kWh)  \\\n",
       "median value                                                0.0                         \n",
       "\n",
       "              Total Rated Cooling Energy Discharge Capacity (ton)  \\\n",
       "median value                                                0.0     \n",
       "\n",
       "              Total Rated Cooling Energy Storage Capacity (ton-hour)  \\\n",
       "median value                                             6200.0        \n",
       "\n",
       "              Total Rated Electric Generation (kW)  \\\n",
       "median value                                589.66   \n",
       "\n",
       "              Total Rated Electrical Discharge Capacity (kW)  \\\n",
       "median value                                           100.0   \n",
       "\n",
       "              Total Rated Electrical Storage Capacity (kWh)  \\\n",
       "median value                                          400.0   \n",
       "\n",
       "              Total Rated Heat Generation (MBtu/h)  \\\n",
       "median value                                1265.5   \n",
       "\n",
       "              Total Rated Thermal Energy Discharge Capacity (MBtu/h)  \\\n",
       "median value                                                0.0        \n",
       "\n",
       "              Total Rated Thermal Energy Storage Capacity (MBtu)  \n",
       "median value                                                0.0   "
      ]
     },
     "execution_count": 12,
     "metadata": {},
     "output_type": "execute_result"
    }
   ],
   "source": [
    "# Display median ignoring 0s\n",
    "dict = {}\n",
    "for i in range(0,13):\n",
    "    l=[]\n",
    "    #print(df_num.columns[i],np.median(pd.unique(df_num.iloc[:,i])))\n",
    "    l.append(np.median(pd.unique(df_num.iloc[:,i])))\n",
    "    dict[df_num.columns[i]]=l\n",
    "df_median=pd.DataFrame(dict, index=[\"median value\"])\n",
    "df_median"
   ]
  },
  {
   "cell_type": "code",
   "execution_count": 13,
   "metadata": {},
   "outputs": [
    {
     "name": "stderr",
     "output_type": "stream",
     "text": [
      "F:\\rohan\\anaconda\\lib\\site-packages\\pandas\\core\\indexing.py:179: SettingWithCopyWarning: \n",
      "A value is trying to be set on a copy of a slice from a DataFrame\n",
      "\n",
      "See the caveats in the documentation: http://pandas.pydata.org/pandas-docs/stable/indexing.html#indexing-view-versus-copy\n",
      "  self._setitem_with_indexer(indexer, value)\n"
     ]
    }
   ],
   "source": [
    "# categorical analysis\n",
    "#df[\"City\"].value_counts().head()\n",
    "cat_1 = df[\"City\"].value_counts()\n",
    "cat_1_df=cat_1.to_frame()\n",
    "cat_1_df.reset_index(inplace=True)\n",
    "\n",
    "for i in range(0,len(cat_1_df)):\n",
    "    if(cat_1_df[\"index\"].iloc[i] not in (\"New York\",\"Brooklyn\",\"Bronx\",\"Staten Island\",\"Rochester\")):\n",
    "        #idx=as_list.index(i)\n",
    "        #as_list[idx]=\"Others\"\n",
    "        cat_1_df[\"index\"].iloc[i]=\"Others\"\n",
    "cat2=cat_1_df.groupby('index').City.agg('sum')\n"
   ]
  },
  {
   "cell_type": "code",
   "execution_count": 14,
   "metadata": {},
   "outputs": [
    {
     "data": {
      "image/png": "[encoded data removed]",
      "text/plain": [
       "<matplotlib.figure.Figure at 0x1985ef83668>"
      ]
     },
     "metadata": {},
     "output_type": "display_data"
    }
   ],
   "source": [
    "plt.pie(cat2, labels=list(cat2.index), autopct='%1.1f%%', shadow=True)\n",
    "plt.title('Facilities in City', fontweight='bold')\n",
    "fig=plt.gcf()\n",
    "fig.set_size_inches(5,5)\n",
    "plt.savefig('cat1.jpg', dpi=100)\n",
    "plt.show()"
   ]
  },
  {
   "cell_type": "code",
   "execution_count": 15,
   "metadata": {},
   "outputs": [
    {
     "data": {
      "text/plain": [
       "NY    811\n",
       "Name: State, dtype: int64"
      ]
     },
     "execution_count": 15,
     "metadata": {},
     "output_type": "execute_result"
    }
   ],
   "source": [
    "df[\"State\"].value_counts()"
   ]
  },
  {
   "cell_type": "code",
   "execution_count": 16,
   "metadata": {},
   "outputs": [
    {
     "data": {
      "text/plain": [
       "10036    14\n",
       "11207    11\n",
       "14850    11\n",
       "12010    10\n",
       "13440     8\n",
       "Name: ZIP, dtype: int64"
      ]
     },
     "execution_count": 16,
     "metadata": {},
     "output_type": "execute_result"
    }
   ],
   "source": [
    "df[\"ZIP\"].value_counts().head()"
   ]
  },
  {
   "cell_type": "code",
   "execution_count": 17,
   "metadata": {},
   "outputs": [
    {
     "data": {
      "text/plain": [
       "False    688\n",
       "True     123\n",
       "Name: Facility Submits Data on Electricity Imported from Utility?, dtype: int64"
      ]
     },
     "execution_count": 17,
     "metadata": {},
     "output_type": "execute_result"
    }
   ],
   "source": [
    "df[\"Facility Submits Data on Electricity Imported from Utility?\"].value_counts()"
   ]
  },
  {
   "cell_type": "code",
   "execution_count": 18,
   "metadata": {},
   "outputs": [
    {
     "data": {
      "image/png": "[encoded data removed]",
      "text/plain": [
       "<matplotlib.figure.Figure at 0x1985eef9898>"
      ]
     },
     "metadata": {},
     "output_type": "display_data"
    }
   ],
   "source": [
    "cat = df[\"Facility Submits Data on Electricity Imported from Utility?\"].value_counts()\n",
    "plt.pie(cat, labels=list(cat.index), autopct='%1.1f%%', shadow=True)\n",
    "plt.title('Facility Submits Data on Electricity', fontweight='bold')\n",
    "fig.set_size_inches(5,5)\n",
    "plt.axis('equal')\n",
    "plt.savefig('cat2.jpg', dpi=100)\n",
    "plt.show()"
   ]
  },
  {
   "cell_type": "code",
   "execution_count": 19,
   "metadata": {},
   "outputs": [
    {
     "data": {
      "text/plain": [
       "KLGA    209\n",
       "KJFK     97\n",
       "KALB     89\n",
       "KSWF     74\n",
       "KSYR     62\n",
       "KROC     54\n",
       "Name: Source Weather Station for Ambient Temperature Data, dtype: int64"
      ]
     },
     "execution_count": 19,
     "metadata": {},
     "output_type": "execute_result"
    }
   ],
   "source": [
    "df[\"Source Weather Station for Ambient Temperature Data\"].value_counts().head(6)"
   ]
  },
  {
   "cell_type": "code",
   "execution_count": 20,
   "metadata": {},
   "outputs": [
    {
     "name": "stderr",
     "output_type": "stream",
     "text": [
      "F:\\rohan\\anaconda\\lib\\site-packages\\pandas\\core\\indexing.py:179: SettingWithCopyWarning: \n",
      "A value is trying to be set on a copy of a slice from a DataFrame\n",
      "\n",
      "See the caveats in the documentation: http://pandas.pydata.org/pandas-docs/stable/indexing.html#indexing-view-versus-copy\n",
      "  self._setitem_with_indexer(indexer, value)\n"
     ]
    },
    {
     "data": {
      "image/png": "[encoded data removed]",
      "text/plain": [
       "<matplotlib.figure.Figure at 0x1985eec9dd8>"
      ]
     },
     "metadata": {},
     "output_type": "display_data"
    }
   ],
   "source": [
    "cat_1 = df[\"Source Weather Station for Ambient Temperature Data\"].value_counts()\n",
    "cat_1_df=cat_1.to_frame()\n",
    "cat_1_df.reset_index(inplace=True)\n",
    "\n",
    "for i in range(0,len(cat_1_df)):\n",
    "    if(cat_1_df[\"index\"].iloc[i] not in (\"KLGA\",\"KJFK\",\"KALB\",\"KSWF\",\"KSYR\",\"KROC\")):\n",
    "        #idx=as_list.index(i)\n",
    "        #as_list[idx]=\"Others\"\n",
    "        cat_1_df[\"index\"].iloc[i]=\"Others\"\n",
    "cat2=cat_1_df.groupby('index')[\"Source Weather Station for Ambient Temperature Data\"].agg('sum')\n",
    "plt.pie(cat2, labels=list(cat2.index), autopct='%1.1f%%', shadow=True)\n",
    "plt.title('Weather Station for Temperature Data', fontweight='bold')\n",
    "fig.set_size_inches(5,5)\n",
    "plt.axis('equal')\n",
    "plt.savefig('cat3.jpg', dpi=100)\n",
    "plt.show()"
   ]
  },
  {
   "cell_type": "code",
   "execution_count": 21,
   "metadata": {},
   "outputs": [
    {
     "data": {
      "text/plain": [
       "1     723\n",
       "0      39\n",
       "2      33\n",
       "3       9\n",
       "4       4\n",
       "7       2\n",
       "11      1\n",
       "Name: Installed Systems, dtype: int64"
      ]
     },
     "execution_count": 21,
     "metadata": {},
     "output_type": "execute_result"
    }
   ],
   "source": [
    "df[\"Installed Systems\"].value_counts()"
   ]
  },
  {
   "cell_type": "code",
   "execution_count": 22,
   "metadata": {},
   "outputs": [
    {
     "data": {
      "image/png": "[encoded data removed]",
      "text/plain": [
       "<matplotlib.figure.Figure at 0x1985ec664e0>"
      ]
     },
     "metadata": {},
     "output_type": "display_data"
    }
   ],
   "source": [
    "cat=df[\"Installed Systems\"].value_counts()\n",
    "plt.pie(cat, labels=list(cat.index), autopct='%1.1f%%', shadow=True)\n",
    "plt.show()"
   ]
  },
  {
   "cell_type": "code",
   "execution_count": 23,
   "metadata": {},
   "outputs": [
    {
     "data": {
      "text/plain": [
       "Residential                             208\n",
       "Education                                97\n",
       "Offsite Resource                         92\n",
       "Mercantile (Retail Other Than Malls)     89\n",
       "Name: Category, dtype: int64"
      ]
     },
     "execution_count": 23,
     "metadata": {},
     "output_type": "execute_result"
    }
   ],
   "source": [
    "df[\"Category\"].value_counts().head(4)"
   ]
  },
  {
   "cell_type": "code",
   "execution_count": 60,
   "metadata": {},
   "outputs": [
    {
     "name": "stderr",
     "output_type": "stream",
     "text": [
      "F:\\rohan\\anaconda\\lib\\site-packages\\pandas\\core\\indexing.py:179: SettingWithCopyWarning: \n",
      "A value is trying to be set on a copy of a slice from a DataFrame\n",
      "\n",
      "See the caveats in the documentation: http://pandas.pydata.org/pandas-docs/stable/indexing.html#indexing-view-versus-copy\n",
      "  self._setitem_with_indexer(indexer, value)\n",
      "F:\\rohan\\anaconda\\lib\\site-packages\\matplotlib\\axes\\_axes.py:521: UserWarning: You have mixed positional and keyword arguments, some input will be discarded.\n",
      "  warnings.warn(\"You have mixed positional and keyword \"\n"
     ]
    },
    {
     "data": {
      "image/png": "[encoded data removed]",
      "text/plain": [
       "<matplotlib.figure.Figure at 0x284d89805c0>"
      ]
     },
     "metadata": {},
     "output_type": "display_data"
    }
   ],
   "source": [
    "cat_1 = df[\"Category\"].value_counts()\n",
    "cat_1_df=cat_1.to_frame()\n",
    "cat_1_df.reset_index(inplace=True)\n",
    "\n",
    "for i in range(0,len(cat_1_df)):\n",
    "    if(cat_1_df[\"index\"].iloc[i] not in (\"Residential\",\"Education\",\"Offsite Resource\",\"Mercantile (Retail Other Than Malls)\")):\n",
    "        #idx=as_list.index(i)\n",
    "        #as_list[idx]=\"Others\"\n",
    "        cat_1_df[\"index\"].iloc[i]=\"Others\"\n",
    "cat2=cat_1_df.groupby('index')[\"Category\"].agg('sum')\n",
    "p=plt.pie(cat2, autopct='%1.1f%%', shadow=True)\n",
    "plt.legend(p, labels=list(cat_1.index), loc='best',prop={'size': 6}, title='Categories')\n",
    "plt.title('Categories of Facilities', fontweight='bold')\n",
    "fig.set_size_inches(5,5)\n",
    "plt.axis('equal')\n",
    "plt.savefig('cat4.jpg', dpi=100)\n",
    "plt.show()"
   ]
  },
  {
   "cell_type": "code",
   "execution_count": 25,
   "metadata": {},
   "outputs": [
    {
     "data": {
      "text/plain": [
       "Multifamily               108\n",
       "Single-family detached    100\n",
       "Name: Subcategory, dtype: int64"
      ]
     },
     "execution_count": 25,
     "metadata": {},
     "output_type": "execute_result"
    }
   ],
   "source": [
    "df.loc[df[\"Category\"]==\"Residential\", \"Subcategory\"].value_counts()"
   ]
  },
  {
   "cell_type": "code",
   "execution_count": 26,
   "metadata": {},
   "outputs": [
    {
     "data": {
      "text/plain": [
       "Consolidated Edison                            352\n",
       "National Grid - Upstate NY (Niagara Mohawk)    194\n",
       "New York State Electric and Gas                 83\n",
       "Central Hudson Gas and Electric                 66\n",
       "Orange and Rockland Utilities                   55\n",
       "Rochester Gas and Electric                      36\n",
       "Long Island Power Authority (PSEG-LI)           25\n",
       "Name: Electric Utility, dtype: int64"
      ]
     },
     "execution_count": 26,
     "metadata": {},
     "output_type": "execute_result"
    }
   ],
   "source": [
    "df[\"Electric Utility\"].value_counts()"
   ]
  },
  {
   "cell_type": "code",
   "execution_count": 27,
   "metadata": {},
   "outputs": [
    {
     "name": "stderr",
     "output_type": "stream",
     "text": [
      "F:\\rohan\\anaconda\\lib\\site-packages\\matplotlib\\axes\\_axes.py:521: UserWarning: You have mixed positional and keyword arguments, some input will be discarded.\n",
      "  warnings.warn(\"You have mixed positional and keyword \"\n"
     ]
    },
    {
     "data": {
      "image/png": "[encoded data removed]",
      "text/plain": [
       "<matplotlib.figure.Figure at 0x1985d2bcba8>"
      ]
     },
     "metadata": {},
     "output_type": "display_data"
    }
   ],
   "source": [
    "cat=df[\"Electric Utility\"].value_counts()\n",
    "p=plt.pie(cat, autopct='%1.1f%%', shadow=True, startangle=90)\n",
    "plt.legend(p, labels=list(cat.index), loc='best',prop={'size': 6}, title='Elecctric Utilities')\n",
    "plt.title('Electric Utilities Acquisition', fontweight='bold')\n",
    "fig.set_size_inches(5,5)\n",
    "plt.axis('equal')\n",
    "plt.savefig('cat5.jpg', dpi=100)\n",
    "plt.show()"
   ]
  },
  {
   "cell_type": "code",
   "execution_count": 28,
   "metadata": {},
   "outputs": [
    {
     "data": {
      "text/plain": [
       "Consolidated Edison                107\n",
       "Central Hudson Gas and Electric      1\n",
       "Name: Electric Utility, dtype: int64"
      ]
     },
     "execution_count": 28,
     "metadata": {},
     "output_type": "execute_result"
    }
   ],
   "source": [
    "df.loc[df[\"Subcategory\"]==\"Multifamily\",\"Electric Utility\"].value_counts()"
   ]
  },
  {
   "cell_type": "code",
   "execution_count": 29,
   "metadata": {},
   "outputs": [
    {
     "data": {
      "text/plain": [
       "Central Hudson Gas and Electric                36\n",
       "Orange and Rockland Utilities                  33\n",
       "Long Island Power Authority (PSEG-LI)          16\n",
       "Consolidated Edison                             9\n",
       "National Grid - Upstate NY (Niagara Mohawk)     6\n",
       "Name: Electric Utility, dtype: int64"
      ]
     },
     "execution_count": 29,
     "metadata": {},
     "output_type": "execute_result"
    }
   ],
   "source": [
    "df.loc[df[\"Subcategory\"]==\"Single-family detached\",\"Electric Utility\"].value_counts()"
   ]
  }
 ],
 "metadata": {
  "kernelspec": {
   "display_name": "Python 3",
   "language": "python",
   "name": "python3"
  },
  "language_info": {
   "codemirror_mode": {
    "name": "ipython",
    "version": 3
   },
   "file_extension": ".py",
   "mimetype": "text/x-python",
   "name": "python",
   "nbconvert_exporter": "python",
   "pygments_lexer": "ipython3",
   "version": "3.6.3"
  }
 },
 "nbformat": 4,
 "nbformat_minor": 2
}
